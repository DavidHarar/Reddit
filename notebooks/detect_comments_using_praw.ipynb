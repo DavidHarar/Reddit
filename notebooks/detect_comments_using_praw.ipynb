{
  "cells": [
    {
      "cell_type": "markdown",
      "metadata": {
        "id": "jXt1JkE0RO9I"
      },
      "source": [
        "# Setup"
      ]
    },
    {
      "cell_type": "code",
      "execution_count": 1,
      "metadata": {
        "colab": {
          "base_uri": "https://localhost:8080/"
        },
        "id": "X2mlYChIyjpL",
        "outputId": "d74df617-2b38-45fd-e1c1-6be7631a6853"
      },
      "outputs": [
        {
          "name": "stdout",
          "output_type": "stream",
          "text": [
            "Collecting praw\n",
            "  Downloading praw-7.7.1-py3-none-any.whl (191 kB)\n",
            "\u001b[?25l     \u001b[90m━━━━━━━━━━━━━━━━━━━━━━━━━━━━━━━━━━━━━━━━\u001b[0m \u001b[32m0.0/191.0 kB\u001b[0m \u001b[31m?\u001b[0m eta \u001b[36m-:--:--\u001b[0m\r\u001b[2K     \u001b[91m━━━━━━\u001b[0m\u001b[90m╺\u001b[0m\u001b[90m━━━━━━━━━━━━━━━━━━━━━━━━━━━━━━━━━\u001b[0m \u001b[32m30.7/191.0 kB\u001b[0m \u001b[31m743.0 kB/s\u001b[0m eta \u001b[36m0:00:01\u001b[0m\r\u001b[2K     \u001b[91m━━━━━━━━━━━━━━━━━━━━━━━━━\u001b[0m\u001b[91m╸\u001b[0m\u001b[90m━━━━━━━━━━━━━━\u001b[0m \u001b[32m122.9/191.0 kB\u001b[0m \u001b[31m1.7 MB/s\u001b[0m eta \u001b[36m0:00:01\u001b[0m\r\u001b[2K     \u001b[90m━━━━━━━━━━━━━━━━━━━━━━━━━━━━━━━━━━━━━━━━\u001b[0m \u001b[32m191.0/191.0 kB\u001b[0m \u001b[31m2.2 MB/s\u001b[0m eta \u001b[36m0:00:00\u001b[0m\n",
            "\u001b[?25hCollecting prawcore<3,>=2.1 (from praw)\n",
            "  Downloading prawcore-2.4.0-py3-none-any.whl (17 kB)\n",
            "Collecting update-checker>=0.18 (from praw)\n",
            "  Downloading update_checker-0.18.0-py3-none-any.whl (7.0 kB)\n",
            "Requirement already satisfied: websocket-client>=0.54.0 in /usr/local/lib/python3.10/dist-packages (from praw) (1.6.4)\n",
            "Requirement already satisfied: requests<3.0,>=2.6.0 in /usr/local/lib/python3.10/dist-packages (from prawcore<3,>=2.1->praw) (2.31.0)\n",
            "Requirement already satisfied: charset-normalizer<4,>=2 in /usr/local/lib/python3.10/dist-packages (from requests<3.0,>=2.6.0->prawcore<3,>=2.1->praw) (3.3.2)\n",
            "Requirement already satisfied: idna<4,>=2.5 in /usr/local/lib/python3.10/dist-packages (from requests<3.0,>=2.6.0->prawcore<3,>=2.1->praw) (3.4)\n",
            "Requirement already satisfied: urllib3<3,>=1.21.1 in /usr/local/lib/python3.10/dist-packages (from requests<3.0,>=2.6.0->prawcore<3,>=2.1->praw) (2.0.7)\n",
            "Requirement already satisfied: certifi>=2017.4.17 in /usr/local/lib/python3.10/dist-packages (from requests<3.0,>=2.6.0->prawcore<3,>=2.1->praw) (2023.7.22)\n",
            "Installing collected packages: update-checker, prawcore, praw\n",
            "Successfully installed praw-7.7.1 prawcore-2.4.0 update-checker-0.18.0\n"
          ]
        }
      ],
      "source": [
        "!pip install praw"
      ]
    },
    {
      "cell_type": "code",
      "execution_count": 2,
      "metadata": {
        "id": "lJKP15ZQIbQS"
      },
      "outputs": [],
      "source": [
        "reddit_credentials = {\n",
        "    'client_id': 'your client ID',\n",
        "    'client_secret': 'your client secret',\n",
        "    'password': 'your password',\n",
        "    'username': 'your username',\n",
        "    'user_agent': 'your user agent'\n",
        "}\n",
        "\n",
        "model_information = {\n",
        "    'tokenizer':\"./models/roberta_augmentation_label_spreading_after_pretraining_241123_tokenizer\",\n",
        "    'model':\"./models/roberta_augmentation_label_spreading_after_pretraining_241123_model.pt\",\n",
        "    'threshold':0.93\n",
        "}"
      ]
    },
    {
      "cell_type": "code",
      "execution_count": 3,
      "metadata": {
        "colab": {
          "base_uri": "https://localhost:8080/"
        },
        "id": "1KCaKESpRjRq",
        "outputId": "c4ba8ee1-9105-4701-f329-df3e196c1da3"
      },
      "outputs": [
        {
          "name": "stdout",
          "output_type": "stream",
          "text": [
            "Mounted at /content/drive\n"
          ]
        }
      ],
      "source": [
        "# imports\n",
        "import numpy as np\n",
        "import os\n",
        "import sys\n",
        "from transformers import RobertaTokenizer, RobertaForSequenceClassification\n",
        "import re\n",
        "import praw\n",
        "import torch\n",
        "from torch.utils.data import TensorDataset, DataLoader\n",
        "from tqdm import tqdm\n",
        "\n",
        "import seaborn as sns\n",
        "import matplotlib.pyplot as plt\n",
        "\n",
        "root = 'your root folder/Reddit/'\n",
        "\n",
        "os.chdir(root)\n",
        "sys.path.append(root)\n"
      ]
    },
    {
      "cell_type": "markdown",
      "metadata": {
        "id": "-qdnvVFCEZ3o"
      },
      "source": [
        "# utils"
      ]
    },
    {
      "cell_type": "code",
      "execution_count": 4,
      "metadata": {
        "id": "GRutxldbzwf9"
      },
      "outputs": [],
      "source": [
        "from typing import List\n",
        "\n",
        "class AntiIsraelAPI():\n",
        "  def __init__(self, reddit_credentials, model_information, config):\n",
        "    # Init a Reddit session\n",
        "    self.reddit = praw.Reddit(**reddit_credentials, check_for_async=False)\n",
        "    self.device = torch.device('cuda') if torch.cuda.is_available() else torch.device('cpu')\n",
        "\n",
        "    # Load model\n",
        "    self.tokenizer = RobertaTokenizer.from_pretrained(model_information['tokenizer'])\n",
        "    self.model = RobertaForSequenceClassification.from_pretrained(\n",
        "        model_information['model'],\n",
        "        num_labels = 2,\n",
        "        output_attentions = False,\n",
        "        output_hidden_states = False\n",
        "        ).to(self.device)\n",
        "    self.model_information = model_information\n",
        "    self.config = config\n",
        "\n",
        "  def detect(self, subreddit_name, limit, relevant_terms, posts_type):\n",
        "    \"\"\"\n",
        "    run the entire process\n",
        "    \"\"\"\n",
        "    # create an empty dictionary to store results\n",
        "    results = {\n",
        "        'sentences':[],\n",
        "        'comments_ids':[],\n",
        "        'title_id':[],\n",
        "        'inputs':[],\n",
        "        'scores':[],\n",
        "        'prediction':[]\n",
        "        }\n",
        "\n",
        "    # get related posts\n",
        "    posts = self._subreddit_get_posts(subreddit_name, limit, relevant_terms, posts_type)\n",
        "    print(f'There are {len(posts)} posts about Israel.')\n",
        "\n",
        "    # process posts\n",
        "    for post in tqdm(posts, desc='Processing posts'):\n",
        "      try:\n",
        "        post_dataloader, comments_and_sentences = self._process_post(post, subreddit_name)\n",
        "        prediction_results = self.predict(post_dataloader)\n",
        "        post_results = {**comments_and_sentences,**prediction_results}\n",
        "\n",
        "        # update results\n",
        "        for k in results.keys():\n",
        "          # print(f'{k}, {len(post_results[k])}, {type(post_results[k])}')\n",
        "          results[k]+=post_results[k]\n",
        "      except:\n",
        "        continue\n",
        "\n",
        "    return results\n",
        "\n",
        "\n",
        "  def _subreddit_get_posts(self, subreddit_name, limit, relevant_terms, posts_type)->List:\n",
        "    subreddit = self.reddit.subreddit(subreddit_name)\n",
        "    if posts_type == 'new':\n",
        "      posts = subreddit.new(limit=limit)\n",
        "    if posts_type == 'hot':\n",
        "      posts = subreddit.hot(limit=limit)\n",
        "\n",
        "    # filter out irrelevant posts\n",
        "    relevant_posts = []\n",
        "    for post in posts:\n",
        "      terms_included = 0\n",
        "      title = str.lower(post.title).replace(f'/r/{subreddit_name} ','')\n",
        "      for term in relevant_terms:\n",
        "        if term in title and terms_included == 0:\n",
        "          relevant_posts.append(post)\n",
        "          terms_included+=1\n",
        "        else:\n",
        "          continue\n",
        "\n",
        "    return relevant_posts\n",
        "\n",
        "  def _process_post(self, post, subreddit_name)->DataLoader:\n",
        "    # extract content from post\n",
        "    post_and_comments = AntiIsraelAPI._post_get_comments_and_ids(post)\n",
        "\n",
        "    # get title and comments\n",
        "    post_title  = post_and_comments['title_text'][0].replace(f'/r/{subreddit_name} ','')\n",
        "    post_id  = post_and_comments['title_id'][0]\n",
        "    comments    = post_and_comments['comments_text']\n",
        "    comments_ids= post_and_comments['comments_id']\n",
        "\n",
        "    # duplicate `post_id`\n",
        "    post_id = [post_id]*len(comments_ids)\n",
        "\n",
        "    # process (clean comments and join titles and comments)\n",
        "    comments = [AntiIsraelAPI.remove_hyperlinks(x) for x in comments]\n",
        "    comments = [AntiIsraelAPI.trimmer(x) for x in comments]\n",
        "    sentences = np.array([f'{post_title} ; {comment}' for comment in comments])\n",
        "\n",
        "    # store sentences and comments IDs\n",
        "    sentences_and_comments_ids = {'sentences':sentences.tolist(),'comments_ids':comments_ids, 'title_id':post_id}\n",
        "\n",
        "    # Tokenize all of the sentences and map the tokens to thier word IDs.\n",
        "    input_ids = []\n",
        "    attention_masks = []\n",
        "\n",
        "    # For every sentence...\n",
        "    for sent in sentences:\n",
        "        encoded_dict = self.tokenizer.encode_plus(\n",
        "                            sent,                           # Sentence to encode.\n",
        "                            add_special_tokens = True,      # Add '[CLS]' and '[SEP]'\n",
        "                            max_length = 512,               # Pad & truncate all sentences.\n",
        "                            pad_to_max_length = True,\n",
        "                            return_attention_mask = True,   # Construct attn. masks.\n",
        "                            return_tensors = 'pt',          # Return pytorch tensors.\n",
        "                      )\n",
        "\n",
        "        # Add the encoded sentence to the list.\n",
        "        input_ids.append(encoded_dict['input_ids'])\n",
        "\n",
        "        # And its attention mask (simply differentiates padding from non-padding).\n",
        "        attention_masks.append(encoded_dict['attention_mask'])\n",
        "\n",
        "    # Convert the lists into tensors and then to torch dataset.\n",
        "    input_ids = torch.cat(input_ids, dim=0)\n",
        "    attention_masks = torch.cat(attention_masks, dim=0)\n",
        "    dataset = TensorDataset(input_ids, attention_masks)\n",
        "\n",
        "    # Create a dataloader\n",
        "    dataloader = DataLoader(\n",
        "        dataset,\n",
        "        batch_size = 32\n",
        "        )\n",
        "\n",
        "    return dataloader, sentences_and_comments_ids\n",
        "\n",
        "  def predict(self, dataloader):\n",
        "\n",
        "    results = {\n",
        "        'inputs':[],\n",
        "        'scores':[]\n",
        "        }\n",
        "\n",
        "    for batch in dataloader:\n",
        "      b_input_ids = batch[0].to(self.device)\n",
        "      b_input_mask = batch[1].to(self.device)\n",
        "\n",
        "      with torch.no_grad():\n",
        "        scores = self.model(\n",
        "            b_input_ids,\n",
        "            token_type_ids=None,\n",
        "            attention_mask=b_input_mask)\n",
        "\n",
        "        logits = scores.logits\n",
        "        probs = torch.softmax(logits, dim=1).detach().cpu().numpy().tolist()\n",
        "\n",
        "\n",
        "        results['inputs'] += b_input_ids.tolist()\n",
        "        results['scores'] += probs\n",
        "\n",
        "    results['prediction'] = np.where(np.array(results['scores'])>self.model_information['threshold'],1,0).tolist()\n",
        "\n",
        "    return results\n",
        "\n",
        "\n",
        "  @staticmethod\n",
        "  def _post_get_comments_and_ids(post)->dict:\n",
        "    \"\"\"\n",
        "    Extract content from a Reddit submission.\n",
        "\n",
        "    inputs:\n",
        "    post: Reddit Submission(id='182j32m')\n",
        "\n",
        "    output:\n",
        "    - dictionary with post ID, post title, comments ID and comments texts.\n",
        "\n",
        "    Example:\n",
        "    _post_get_comments_and_ids(post)\n",
        "\n",
        "    \"\"\"\n",
        "    results = {\n",
        "        'title_text':[],\n",
        "        'title_id':[],\n",
        "        'comments_text':[],\n",
        "        'comments_id':[]\n",
        "        }\n",
        "\n",
        "    results['title_text'].append(post.title)\n",
        "    results['title_id'].append(post.id)\n",
        "\n",
        "    comments = [x for x in post.comments]\n",
        "    results['comments_text'] = [comments[j].body for j in range(len(comments)-1)]\n",
        "    results['comments_id'] = [comments[j].id for j in range(len(comments)-1)]\n",
        "\n",
        "    return results\n",
        "\n",
        "  @staticmethod\n",
        "  def remove_hyperlinks(text):\n",
        "    \"\"\"Removes hyperlinks from text.\n",
        "\n",
        "    Args:\n",
        "      text: A string containing the text with hyperlinks.\n",
        "\n",
        "    Returns:\n",
        "      A string containing the text without hyperlinks.\n",
        "    \"\"\"\n",
        "    # replace http to https\n",
        "    text = text.replace('http://', 'https://')\n",
        "\n",
        "    # Remove embedded hyperlinks.\n",
        "    text = re.sub(r'\\[(.*?)\\]\\(https:\\/\\/.*?\\)', r'\\1', text)\n",
        "\n",
        "    # Remove pasted hyperlinks.\n",
        "    text = re.sub(r'https?://\\S+', '', text)\n",
        "\n",
        "    return text\n",
        "\n",
        "  @staticmethod\n",
        "  def count_hyperlinks(text):\n",
        "    \"\"\"Counts the number of hyperlinks in text.\n",
        "\n",
        "    Args:\n",
        "      text: A string containing the text with hyperlinks.\n",
        "\n",
        "    Returns:\n",
        "      An integer representing the number of hyperlinks in the text.\n",
        "    \"\"\"\n",
        "    # replace http to https\n",
        "    text = text.replace('http://', 'https://')\n",
        "\n",
        "    # Count embedded hyperlinks.\n",
        "    hyperlinks = re.findall(r'https:\\/\\/.*?', text)\n",
        "\n",
        "    # Return the total number of hyperlinks.\n",
        "    return len(hyperlinks)\n",
        "\n",
        "  @staticmethod\n",
        "  def trimmer(text):\n",
        "    \"\"\"Removes extra characters in a row from text.\n",
        "    \"\"\"\n",
        "    # remove trailing spaces\n",
        "    lines = text.splitlines()\n",
        "\n",
        "    # Remove trailing spaces from each line.\n",
        "    clean_lines = [line.rstrip() for line in lines]\n",
        "\n",
        "    # Join the lines back into a string.\n",
        "    text = \"\\n\".join(clean_lines)\n",
        "\n",
        "    # Remove newlines in a row that have only one character in them.\n",
        "    text = re.sub(r'\\n\\s*\\n+', '\\n\\n', text)\n",
        "\n",
        "    # Remove extra spaces in a row.\n",
        "    text = re.sub(r'\\s+', ' ', text)\n",
        "\n",
        "    # Remove multiple blank lines.\n",
        "    text = re.sub(r'\\n\\s*\\n+', '\\n\\n', text)\n",
        "\n",
        "    # Remove unnecessary whitespace.\n",
        "    text = re.sub(r'\\s+', ' ', text)\n",
        "\n",
        "    # Remove extra dashes in a row.\n",
        "    text = re.sub(r'--+', '--', text)\n",
        "\n",
        "    # remove more than one \\n in a row\n",
        "    text = re.sub(r'\\n+', '\\n', text)\n",
        "\n",
        "    # Compile the patterns into a regular expression.\n",
        "    substrings = ['- ', '* ', ' -', ' *']\n",
        "    for substring in substrings:\n",
        "      text = text.replace(substring, '')\n",
        "\n",
        "    return text\n"
      ]
    },
    {
      "cell_type": "markdown",
      "metadata": {
        "id": "HWLuDM5UEYZw"
      },
      "source": [
        "# WorldNews"
      ]
    },
    {
      "cell_type": "code",
      "execution_count": 16,
      "metadata": {
        "colab": {
          "base_uri": "https://localhost:8080/"
        },
        "id": "UG4DPb_GWZ9X",
        "outputId": "5442c006-0703-4c84-e4f4-e988ccb475ac"
      },
      "outputs": [
        {
          "name": "stdout",
          "output_type": "stream",
          "text": [
            "There are 68 posts about Israel.\n"
          ]
        },
        {
          "name": "stderr",
          "output_type": "stream",
          "text": [
            "Processing posts:   1%|▏         | 1/68 [00:00<00:28,  2.34it/s]Truncation was not explicitly activated but `max_length` is provided a specific value, please use `truncation=True` to explicitly truncate examples to max length. Defaulting to 'longest_first' truncation strategy. If you encode pairs of sequences (GLUE-style) with the tokenizer you can select this strategy more precisely by providing a specific strategy to `truncation`.\n",
            "/usr/local/lib/python3.10/dist-packages/transformers/tokenization_utils_base.py:2614: FutureWarning: The `pad_to_max_length` argument is deprecated and will be removed in a future version, use `padding=True` or `padding='longest'` to pad to the longest sequence in the batch, or use `padding='max_length'` to pad to a max length. In this case, you can give a specific length with `max_length` (e.g. `max_length=45`) or leave max_length to None to pad to the maximal input size of the model (e.g. 512 for Bert).\n",
            "  warnings.warn(\n",
            "Processing posts: 100%|██████████| 68/68 [02:14<00:00,  1.98s/it]"
          ]
        },
        {
          "name": "stdout",
          "output_type": "stream",
          "text": [
            "\n",
            "Num of Results:\n",
            "\tsentences: 1320\n",
            "\tcomments_ids: 1320\n",
            "\ttitle_id: 1320\n",
            "\tinputs: 1320\n",
            "\tscores: 1320\n",
            "\tprediction: 1320\n"
          ]
        },
        {
          "name": "stderr",
          "output_type": "stream",
          "text": [
            "\n"
          ]
        }
      ],
      "source": [
        "config = {\n",
        "    'limit':1000,\n",
        "    'subreddit_name':'WorldNews',\n",
        "    'relevant_terms':{'israel', 'hammas', 'palestine'},\n",
        "    'posts_type':'new',\n",
        "\n",
        "}\n",
        "\n",
        "ant = AntiIsraelAPI(reddit_credentials,model_information,config)\n",
        "results = ant.detect(**config)\n",
        "\n",
        "print('\\nNum of Results:')\n",
        "for k in results.keys():\n",
        "  print(f'\\t{k}: {len(results[k])}')\n"
      ]
    },
    {
      "cell_type": "code",
      "execution_count": 17,
      "metadata": {
        "colab": {
          "base_uri": "https://localhost:8080/",
          "height": 452
        },
        "id": "DXtL3eMGFIuI",
        "outputId": "b2757fe4-0a77-47b4-8b44-b683a2f28f37"
      },
      "outputs": [
        {
          "data": {
            "image/png": "[encoded data removed]",
            "text/plain": [
              "<Figure size 640x480 with 1 Axes>"
            ]
          },
          "metadata": {},
          "output_type": "display_data"
        }
      ],
      "source": [
        "positive_preds = np.array(results['scores'])[:,1]\n",
        "\n",
        "sns.histplot(positive_preds, bins = 100)\n",
        "plt.title('WorldNews Scores Distribution')\n",
        "plt.show()\n"
      ]
    },
    {
      "cell_type": "code",
      "execution_count": 18,
      "metadata": {
        "colab": {
          "base_uri": "https://localhost:8080/"
        },
        "id": "kH9D_TO8kU_A",
        "outputId": "9f333fea-a223-4b52-8300-33283a5ece96"
      },
      "outputs": [
        {
          "name": "stdout",
          "output_type": "stream",
          "text": [
            "Anti Israeli Comments: 91\n",
            "-----\n",
            "\n",
            "Anti-israel comments:\n",
            "[\"Israeli Hostages’ Family Members Are Being Threatened By Suspicious Texts ; Clownishly evil. I can't wait for the day when all the people supporting this behavior are forced to come to terms with the practices they've defended.\"\n",
            " 'Released Thai hostage says Israelis held with him were beaten with electric cables ; Beating civilian hostages with power cables is legitimate resistance. /s /far too many fucktards'\n",
            " 'Released Thai hostage says Israelis held with him were beaten with electric cables ; Classical anticolonial hostage torture... /s'\n",
            " 'Released Thai hostage says Israelis held with him were beaten with electric cables ; HAMAS EAT 🐷💩'\n",
            " 'Released Thai hostage says Israelis held with him were beaten with electric cables ; Obviously this is not true, Thai are part of the Western colonialism and Zionism! Liars!'\n",
            " 'Released Thai hostage says Israelis held with him were beaten with electric cables ; What did Israel expect would happen when they try and colonise a country? Eventually they are gonna fight back'\n",
            " 'Released Thai hostage says Israelis held with him were beaten with electric cables ; as horrible as it is, Palestinians are treated horribly in Israeli prisons as well. Violence begets violence'\n",
            " 'Released Thai hostage says Israelis held with him were beaten with electric cables ; Good to see they got the talking points deliver by mossad'\n",
            " 'Four Palestinians, including two children, killed by Israeli forces in West Bank ; Anti israeli user confirmed.'\n",
            " 'Hamas armed wing says youngest hostage, relatives killed in previous Israeli air strike ; More psychological warfare from Hamas, fucking scum.'\n",
            " 'Released Palestinian terrorist refuses to leave Israeli jail ; Getting some, they will torture me to death if I go back a collaborator vibes.'\n",
            " 'Saudi Arabia has intercepted Houthi missiles aimed at Israel, Der Spiegel reports ; Seriously it’s time to bomb these guys. Enough is enough.'\n",
            " 'Saudi Arabia has intercepted Houthi missiles aimed at Israel, Der Spiegel reports ; WWIII has the potential to begin soon.'\n",
            " 'Israeli intelligence leak details extent of warnings over Hamas attack | The Guardian ; Bibi is about to go Bye-bye'\n",
            " 'Erdogan tells UN chief Israel must be tried in international courts for Gaza crimes ; I don’t think fighting the Jewish State in a court of law is gonna go the way this guy thinks it will.'\n",
            " \"Erdogan tells UN chief Israel must be tried in international courts for Gaza crimes ; Yeah... Israel should stand trial for what it is doing in Gaza, No question about it. I don't care what they believe they are entitled to*they are NOT allowed to kill and displace 2million + people from their homes and likely cause Many thousands of peoples death in doing so In excess of them BOMBING their god damn houses, hospitals and businesses.**\"\n",
            " 'Israeli troops in northern Gaza targeted with bombs, in apparent breach of truce ; What a shock! Baby mutilators aren’t honest!!'\n",
            " \"Israeli troops in northern Gaza targeted with bombs, in apparent breach of truce ; Yeah, I seriously doubt a group of terrorists is going to honour any agreement they make. They're going to use it as an opportunity to... continue being terrorists.\"\n",
            " \"Israeli troops in northern Gaza targeted with bombs, in apparent breach of truce ; The terrorists aren't honouring a cease fire, and aren't returning families? The terrorists are liars and doing terrorist shit? No fucking way.\"\n",
            " 'Israeli troops in northern Gaza targeted with bombs, in apparent breach of truce ; Maybe in the 27th time Israel will learn to not negotiate with terrorists Feels like they never learn'\n",
            " \"Israel's finance minister defends settlement funds in budget row ; These POS people need to be jailed.. we need to fight this cancer. So much damage is being done for years it's horrible...\"\n",
            " \"Israel's finance minister defends settlement funds in budget row ; Israeli policy towards settlers couldn’t be more inflammatory, antagonistic, and radicalizing for Palestinians who have to suffer them.\"\n",
            " \"Freed Israeli hostage describes deteriorating conditions while being held by Hamas ; I hope after all the Palestinian terrorist prisoners are released IDF tracks them to their final destination, and either HIMARS or cluster bombs them. They just can't keep letting them go, it starts this shit all over again in the future.\"\n",
            " 'Freed Israeli hostage describes deteriorating conditions while being held by Hamas ; My condition deteriorated as the IDF treated me like a one of nearly 6 million Palestinian hostages in occupied Bantustans, can you imagine?'\n",
            " 'Freed Israeli hostage describes deteriorating conditions while being held by Hamas ; Oh she was starving? It is almost like there Israel cut off the food and water in Gaza 🤯🤯'\n",
            " \"Palestinian Authority minister: Hamas's October 7 massacre of Israelis 'heroic' ; Yeah, thumbs up shooting babies and civilians in their beds. Geezus, people wonder why most of the world doesnt want to get involved with this shitshow...\"\n",
            " \"Palestinian Authority minister: Hamas's October 7 massacre of Israelis 'heroic' ; That’s the entire story right there. The “moderates” are very much not moderate. The harsh truth is Israel got no partner for peace and will probably never have.\"\n",
            " \"Palestinian Authority minister: Hamas's October 7 massacre of Israelis 'heroic' ; If you harbor or celebrate terrorists , guess what you are? A terrorist.\"\n",
            " \"Palestinian Authority minister: Hamas's October 7 massacre of Israelis 'heroic' ; The picture of evil right here.\"\n",
            " \"Palestinian Authority minister: Hamas's October 7 massacre of Israelis 'heroic' ; Absolute cockroaches\"\n",
            " \"Palestinian Authority minister: Hamas's October 7 massacre of Israelis 'heroic' ; Cowards Killing defenseless people in their sleep. very heroic you cockroaches\"\n",
            " \"Palestinian Authority minister: Hamas's October 7 massacre of Israelis 'heroic' ; Mmmmmmhmmm love all the foreign aid.... we should be sending ultimatums not money to these monstrous regimes.\"\n",
            " \"Palestinian Authority minister: Hamas's October 7 massacre of Israelis 'heroic' ; Well, he won't be a minister for long at this rate. Shame on Europe for keeping sending money for terrorists.\"\n",
            " \"Palestinian Authority minister: Hamas's October 7 massacre of Israelis 'heroic' ; This is a man who has an actual degree in holocaust denial. He is about as antisemitic and evil as you can get, and the majority of Palestinians agree with his views.\"\n",
            " \"Palestinian Authority minister: Hamas's October 7 massacre of Israelis 'heroic' ; A terrorist piece of shit praised terrorism? Well I never!\"\n",
            " \"Palestinian Authority minister: Hamas's October 7 massacre of Israelis 'heroic' ; Putrid scum bags\"\n",
            " \"Palestinian Authority minister: Hamas's October 7 massacre of Israelis 'heroic' ; I’m going to say this comment might not help persuade the Israelis to stop flattening Gaza….\"\n",
            " \"Palestinian Authority minister: Hamas's October 7 massacre of Israelis 'heroic' ; Disgusting\"\n",
            " \"Palestinian Authority minister: Hamas's October 7 massacre of Israelis 'heroic' ; Just stop, you are stoking the fire. Its like you inviting IDF to come and shoot you. I mean that minister.\"\n",
            " 'Palestinian Authority minister: Hamas\\'s October 7 massacre of Israelis \\'heroic\\' ; \"Partners in peace\" my ass. This is why overbearing Israeli security and the occupation of the west bank exist folks.'\n",
            " \"Palestinian Authority minister: Hamas's October 7 massacre of Israelis 'heroic' ; Heroic if they had attacked an Israeli military base... terrorist scum.\"\n",
            " \"Palestinian Authority minister: Hamas's October 7 massacre of Israelis 'heroic' ; jesus fuck someone put a pillow over this guy’s face\"\n",
            " \"Palestinian Authority minister: Hamas's October 7 massacre of Israelis 'heroic' ; Well then, there you have it! I don't see wht Israel should stop with Gaza now we know how the whole of Palestine feels. FREE PALESTINE (by making it all part of Israel). Enough of that barbarian culture and religion, it has no place in the modern world.\"\n",
            " \"Palestinian Authority minister: Hamas's October 7 massacre of Israelis 'heroic' ; Genocidal dreamers\"\n",
            " \"Palestinian Authority minister: Hamas's October 7 massacre of Israelis 'heroic' ; Heroic how? The only thing Hamas achieved is giving Israel more excuses to take away Palestinians' rights.\"\n",
            " \"Israel allegedly strikes Syria's Damascus International Airport ; The murderous and illegal Assad regime, and it’s backer Putin, continue to bomb and kill civilians every day. Can we get some mass marching for them?\"\n",
            " \"Israel allegedly strikes Syria's Damascus International Airport ; Defund israel\"\n",
            " \"Israel allegedly strikes Syria's Damascus International Airport ; so when are people are going call israel the terrorists? only brown countries right?\"\n",
            " 'Countries need to join hands globally against terrorism, says Israel envoy ; That’s a double edged sword. Look to plank in your own eye'\n",
            " 'Countries need to join hands globally against terrorism, says Israel envoy ; Yea start with your own “settlers” pal'\n",
            " 'Countries need to join hands globally against terrorism, says Israel envoy ; Can we also join hands globally against Apartheid?'\n",
            " \"Countries need to join hands globally against terrorism, says Israel envoy ; Coming from an occupational military force defending terrorist settlers all while playing the victim. Terrorist is a political definition, civilians shouldn't be dying but at least try to understand why it's happening and whose fault it is that this conflict even started\"\n",
            " 'Countries need to join hands globally against terrorism, says Israel envoy ; 1200 died from terrorists? How many thousands of kids died from stray bombs? We’re not stupid and not buying it anymore.'\n",
            " 'Countries need to join hands globally against terrorism, says Israel envoy ; Countries need to join hands globally against the crimes committed by Israel.'\n",
            " 'Countries need to join hands globally against terrorism, says Israel envoy ; Envoy of a terrorist state, long in conflict with international law. Rich'\n",
            " 'Countries need to join hands globally against terrorism, says Israel envoy ; We tried sanctioning Russia, but it has yet to yield any tangible benefit.'\n",
            " 'Countries need to join hands globally against terrorism, says Israel envoy ; A lot already are… GWOT has not yet ended'\n",
            " 'Israeli-linked oil tanker seized off the coast of Aden, Yemen, private intelligence firm says ; Oh. Shit. They should ask Saddam Hussein why it’s stupid to mess with the oil. Oh wait…'\n",
            " 'Israeli-linked oil tanker seized off the coast of Aden, Yemen, private intelligence firm says ; Oh, i am sure that the Israeli oil tankers have been oppressing Palestinian oil tankers for years. Free the Palestinian oil tankers! There is oil on your hands Jews, i mean Israelis. Please dont hurt me jihadis, I hate Jews too.'\n",
            " 'Israeli-linked oil tanker seized off the coast of Aden, Yemen, private intelligence firm says ; It’s like these people want some freedom or something Edit: hey fuckers by freedom I mean the kind f16’s and b-52s deliver'\n",
            " 'Live Thread for 2023 Israel-Hamas Crisis (Thread 42) ; \"The pro-Hamas mob smashed the window of a New York kosher restaurant. Because, you know, terrorizing Jews in America will #FreePalestine.\" '\n",
            " \"Irish ambassador to Israel summoned for 'reprimand' ; Isn't he using the bible phrase?\"\n",
            " \"Irish ambassador to Israel summoned for 'reprimand' ; Christ the Israeli govt is absolutely fucking shameless.\"\n",
            " \"Irish ambassador to Israel summoned for 'reprimand' ; That sub is so cancerous.\"\n",
            " \"Irish ambassador to Israel summoned for 'reprimand' ; The Irish need to get off their high horse Diplomacy calls for it now\"\n",
            " 'Fatah official: Oct. 7 is part of our \\'defensive war\\' against Israel, Hamas is ‘part of our political and social fabric’ ; \" we like the terrorists.\" Palestine probably'\n",
            " 'Netanyahu to Qatar: Israel will not assassinate Hamas leaders in country ; Suddenly muh oil is more important than revenge. What a surprise. Lets not insult the country that still has slavery and harbors the very people who are behind the Oktober 7 attack.'\n",
            " 'Netanyahu to Qatar: Israel will not assassinate Hamas leaders in country ; Looks like we will be getting another “Wrath of God” hit squad'\n",
            " 'Netanyahu to Qatar: Israel will not assassinate Hamas leaders in country ; Israel clearly does not want to destroy Hamas, but they alsohaveto do something about Oct 7. So Netanyahu is trying to kill as many Palestinians as he can so that he can sell the war as a victory to Israelis.'\n",
            " \"Netanyahu to Qatar: Israel will not assassinate Hamas leaders in country ; You know it means that it exactly what will happen. We all know Bibi's word doesn't count for much.\"\n",
            " 'Netanyahu to Qatar: Israel will not assassinate Hamas leaders in country ; Ah yes, Netanyahu is reading the card in his pocket ala Homer. “You kids DO need a babysitter!” “Blast that infernal card!”'\n",
            " 'Israeli forces fire tear gas at West Bank crowds celebrating release of Palestinian prisoners ; Idk WHY Israel would have to use teargas. It’s not like a mob in the West Bank would grab suspected Israeli spies that were their own people and kill them. Or publicly execute them without a trial. To cheers. Then film themselves hanging the bodies for all their kids to see. Only to have half the west ignore their deaths. Why are Israelis so “paranoid.” Smh'\n",
            " \"Hamas frees second group of Israeli, Thai hostages in truce ; Truce feels like the wrong word for it. It's more like terroristic extortion\"\n",
            " 'Irish troops unharmed as Unifil patrol hit by Israeli gunfire in southern Lebanon ; Israelis in this comment section justifying this lmao Get fucked.'\n",
            " 'Hamas is set to release 14 Israeli hostages for 42 Israel-held Palestinians in a second truce swap ; And israelis are bad because they value life of israelis 3x more than life of palestines, right?'\n",
            " 'Hamas is set to release 14 Israeli hostages for 42 Israel-held Palestinians in a second truce swap ; Why are the numbers so lopsided? Why did Israel ever let the precedent of massive prisoner swaps for hostages start? They’ve been emboldened to continue and are incentivized to take as many hostages as possible.'\n",
            " \"Hamas is set to release 14 Israeli hostages for 42 Israel-held Palestinians in a second truce swap ; This just seems like it makes it worthwhile for Israel to make terrorism and terroristic threats a death penalty offense. That way there's no Palestinian criminals to free.\"\n",
            " 'Israel-Hamas conflict has gone beyond war to ‘terrorism,’ Pope Francis says ; Ignorance> Adopted Bias> Hatred> Terrorism> War> Death> Hell.'\n",
            " \"Israel's Communications Minister Threatens Haaretz, Suggests Penalizing Its Gaza War Coverage ; Netanyahu's far-right coalition is by far the worst that Israelis could ever asked for... supporting settler terrorism and persecuting journalism.\"\n",
            " \"Israel's Communications Minister Threatens Haaretz, Suggests Penalizing Its Gaza War Coverage ; Well, Bibi tried to force the judiciary to do his bidding, so it's certainly no surprise that he would threaten a newspaper that doesn't tow the line of his corrupt administration.\"\n",
            " \"Israel's Communications Minister Threatens Haaretz, Suggests Penalizing Its Gaza War Coverage ; Honest question: how and when do Israelis take control of their own government? Bibi is driving Israel off a cliff and the world is salivating over it.\"\n",
            " 'Hamas hands over first group of Israeli hostages to Red Cross in Gaza Strip ; This disgusting hamas filth is purposely splitting up released kidnapped families to further terrorize Jewish families in the process. Their next-level terrorism in this fake gesture of cooperation, was all planned ahead of time. More evidence of why Israel must erase hamas from the Earth.'\n",
            " 'Cuba’s President Leads Pro-Palestine March outside US Embassy in Havana ; How about this guy releases the protesters he jailed after the July 11 protests? He pretends to care about human rights in Palestine but continues to treat his own people lile shit'\n",
            " 'Gaza war to continue for at least two more months: Israel Defence Minister ; Another cycle of hate and death incoming'\n",
            " 'Gaza war to continue for at least two more months: Israel Defence Minister ; Israel won’t stop until the Palestinian people are wiped out.'\n",
            " 'Gaza war to continue for at least two more months: Israel Defence Minister ; Screw all of them and their hate filled slaughter. Stop giving them the weapons to make it happen.'\n",
            " 'South African Lawmakers Vote to Cut Diplomatic Ties With Israel ; Damn, where is Israel gonna get advice from on how to ruin a national power grid now?'\n",
            " 'South African Lawmakers Vote to Cut Diplomatic Ties With Israel ; Failed state'\n",
            " 'South African Lawmakers Vote to Cut Diplomatic Ties With Israel ; And….the 3rd world countries are biting the hands the feed them. That’s….smart.'\n",
            " 'South African Lawmakers Vote to Cut Diplomatic Ties With Israel ; They probably don’t want the world to know what the tyranny of the majority looks like.'\n",
            " 'South African Lawmakers Vote to Cut Diplomatic Ties With Israel ; Crazy how many states with a history of being colonised are taking issue Israel’s actions against Palestinians.']\n",
            "-----\n"
          ]
        }
      ],
      "source": [
        "# Present comments\n",
        "threshold = 0.93\n",
        "positive_mask = positive_preds>threshold\n",
        "print(f'Anti Israeli Comments: {sum(positive_mask)}')\n",
        "\n",
        "indices = np.random.randint(0,sum(positive_mask),5)\n",
        "\n",
        "print('-----')\n",
        "print('')\n",
        "print('Anti-israel comments:')\n",
        "print(np.array(results['sentences'])[positive_mask])\n",
        "print('-----')\n"
      ]
    },
    {
      "cell_type": "markdown",
      "metadata": {
        "id": "vN3iC_J4GnZ7"
      },
      "source": [
        "# News"
      ]
    },
    {
      "cell_type": "code",
      "execution_count": 9,
      "metadata": {
        "colab": {
          "base_uri": "https://localhost:8080/"
        },
        "id": "Tr-tGKE6GoHV",
        "outputId": "db4cce1a-7519-4b9e-893c-fed4aa12d477"
      },
      "outputs": [
        {
          "name": "stdout",
          "output_type": "stream",
          "text": [
            "There are 10 posts about Israel.\n"
          ]
        },
        {
          "name": "stderr",
          "output_type": "stream",
          "text": [
            "Processing posts:  10%|█         | 1/10 [00:00<00:03,  2.54it/s]Truncation was not explicitly activated but `max_length` is provided a specific value, please use `truncation=True` to explicitly truncate examples to max length. Defaulting to 'longest_first' truncation strategy. If you encode pairs of sequences (GLUE-style) with the tokenizer you can select this strategy more precisely by providing a specific strategy to `truncation`.\n",
            "/usr/local/lib/python3.10/dist-packages/transformers/tokenization_utils_base.py:2614: FutureWarning: The `pad_to_max_length` argument is deprecated and will be removed in a future version, use `padding=True` or `padding='longest'` to pad to the longest sequence in the batch, or use `padding='max_length'` to pad to a max length. In this case, you can give a specific length with `max_length` (e.g. `max_length=45`) or leave max_length to None to pad to the maximal input size of the model (e.g. 512 for Bert).\n",
            "  warnings.warn(\n",
            "Processing posts: 100%|██████████| 10/10 [00:35<00:00,  3.58s/it]"
          ]
        },
        {
          "name": "stdout",
          "output_type": "stream",
          "text": [
            "\n",
            "Num of Results:\n",
            "\tsentences: 292\n",
            "\tcomments_ids: 292\n",
            "\ttitle_id: 292\n",
            "\tinputs: 292\n",
            "\tscores: 292\n",
            "\tprediction: 292\n"
          ]
        },
        {
          "name": "stderr",
          "output_type": "stream",
          "text": [
            "\n"
          ]
        }
      ],
      "source": [
        "config = {\n",
        "    'limit':1000,\n",
        "    'subreddit_name':'News',\n",
        "    'relevant_terms':{'israel', 'hamas', 'palestine', 'gaza', 'west bank'},\n",
        "    'posts_type':'new',\n",
        "\n",
        "}\n",
        "\n",
        "ant = AntiIsraelAPI(reddit_credentials,model_information,config)\n",
        "results = ant.detect(**config)\n",
        "\n",
        "print('\\nNum of Results:')\n",
        "for k in results.keys():\n",
        "  print(f'\\t{k}: {len(results[k])}')\n"
      ]
    },
    {
      "cell_type": "code",
      "execution_count": 11,
      "metadata": {
        "colab": {
          "base_uri": "https://localhost:8080/",
          "height": 452
        },
        "id": "TMupXeLFGoHV",
        "outputId": "a1c3b99a-d676-42b7-f7e5-1a4ae97abb09"
      },
      "outputs": [
        {
          "data": {
            "image/png": "[encoded data removed]",
            "text/plain": [
              "<Figure size 640x480 with 1 Axes>"
            ]
          },
          "metadata": {},
          "output_type": "display_data"
        }
      ],
      "source": [
        "positive_preds = np.array(results['scores'])[:,1]\n",
        "\n",
        "sns.histplot(positive_preds, bins = 100)\n",
        "plt.title('News Scores Distribution')\n",
        "plt.show()\n"
      ]
    },
    {
      "cell_type": "code",
      "execution_count": 12,
      "metadata": {
        "colab": {
          "base_uri": "https://localhost:8080/"
        },
        "id": "Oehh7LJbGoHV",
        "outputId": "78f26164-97a3-4365-db5f-73843fdd08a3"
      },
      "outputs": [
        {
          "name": "stdout",
          "output_type": "stream",
          "text": [
            "Anti Israeli Comments: 23\n",
            "-----\n",
            "\n",
            "Anti-israel comments:\n",
            "[\"Israel releases 30 Palestinian prisoners on fifth day of temporary cease-fire ; How did Israel even get the prisoners... which is mostly women and children .....were they planning on keeping and torturing them if it wasn't for the exchange...\"\n",
            " \"Israel and Hamas agree to extend truce for two more days, and free more hostages and prisoners ; Thankful for that at least. we'll never shut up until it's a lasting ceasefire, an end to netanyahu's rule, and real negotiations for full enfranchisement of palestinians.\"\n",
            " \"Israel and Hamas agree to extend truce for two more days, and free more hostages and prisoners ; How did Israel even get the prisoners... which is mostly women and children .....were they planning on keeping and torturing them if it wasn't for the exchange...\"\n",
            " 'US Navy seizes attackers who held Israel-linked tanker ; dont fuck with the boats, USN does not like it when you fuck with the boats, and loves the opportunity to shove its state of the art naval arsenal right up your ass'\n",
            " 'US Navy seizes attackers who held Israel-linked tanker ; Make them walk the plank'\n",
            " 'US Navy seizes attackers who held Israel-linked tanker ; I want footage of pirate bases getting MOABed dammit'\n",
            " 'US Navy seizes attackers who held Israel-linked tanker ; The Fat Electrician just did a good video about piracy and why you don’t fuck with America’s boats Did you know the US Navy was founded for the sole purpose of hunting pirates.'\n",
            " \"US Navy seizes attackers who held Israel-linked tanker ; So now the United States is fighting Israel's war?\"\n",
            " 'US Navy seizes attackers who held Israel-linked tanker ; Waste of time and resources to detain them. Treat em like pirates should be treated.'\n",
            " \"Human Rights Watch says rocket misfire likely cause of deadly Gaza hospital blast ; Didn't we know that weeks ago? I knew as soon as I realized that the rocket didn't actually hit the hospital. If Israel wanted to bomb a hospital they would have leveled the building\"\n",
            " 'Human Rights Watch says rocket misfire likely cause of deadly Gaza hospital blast ; Obligatory fuck Hamas'\n",
            " 'Human Rights Watch says rocket misfire likely cause of deadly Gaza hospital blast ; Terrorists your game is through!'\n",
            " 'Human Rights Watch says rocket misfire likely cause of deadly Gaza hospital blast ; Just like the US, the world expects Isreal to fight with two hand tied behind their backs while they praise those that would terrorize us.'\n",
            " 'Human Rights Watch says rocket misfire likely cause of deadly Gaza hospital blast ; Human Rights Watch also described the conditions imposed by Israel as “apartheid” but we won’t trouble ourselves over that'\n",
            " \"Gaza 'Most Dangerous Place in the World to be a Child' - UNICEF ; It’s so mind boggling to me to read comment after comment of people justifying Israel’s abhorrent disproportional response. It’s clear they are either zionists or don’t see Palestinians as humans deserving of basic human rights. Fucking disgusting\"\n",
            " \"Gaza 'Most Dangerous Place in the World to be a Child' - UNICEF ; Hamas is responsible for that. Gazans are responsible for that. They hate Jews more than they love their kids. Every single child from Gaza should be deported to a foster home and raised far away from that warmongering place and people.\"\n",
            " \"Gaza 'Most Dangerous Place in the World to be a Child' - UNICEF ; What are we supposed to believe, that Israel tries to avoid killing children, but is so incredibly incompetent they constantly murder them? At least the public opinion is turning. if you listen to their government or the settlers, they’re very brazen about their genocidal intent\"\n",
            " \"Gaza 'Most Dangerous Place in the World to be a Child' - UNICEF ; Israel is just murdering children at this point because their genocide has driven the average age down so much. That country is fucking evil.\"\n",
            " \"Gaza 'Most Dangerous Place in the World to be a Child' - UNICEF ; The average is 19 there. A place where children won't grow old under the oppression, killings of the state of Apartheid Israel.\"\n",
            " \"Gaza 'Most Dangerous Place in the World to be a Child' - UNICEF ; All these comments saying no shit its war, way to be dismissive. Maybe they could have picked a different method to go about it to minimise casualties to children? There is a reason this war in particular has been so deadly to children and even journalists. Because Israel simply doesn’t care. They can just claim a terrorist is there and they have carte blanche to do whatever the hell they want.\"\n",
            " \"Gaza 'Most Dangerous Place in the World to be a Child' - UNICEF ; I have seen some of the worst images in my life from this genocide. Children with their faces literally MELTED off. You cannot explain away these war crimes.\"\n",
            " \"Gaza 'Most Dangerous Place in the World to be a Child' - UNICEF ; Biden! Stop Giving Money to Netanyahu to keep bombing Gaza! WHAT. THE. ACTUAL. F*CK.\"\n",
            " \"Gaza 'Most Dangerous Place in the World to be a Child' - UNICEF ; After being bombed relentlessly by an occupying state. Shame. No respect to human life.\"]\n",
            "-----\n"
          ]
        }
      ],
      "source": [
        "# Present comments\n",
        "threshold = 0.93\n",
        "positive_mask = positive_preds>threshold\n",
        "print(f'Anti Israeli Comments: {sum(positive_mask)}')\n",
        "\n",
        "indices = np.random.randint(0,sum(positive_mask),5)\n",
        "\n",
        "print('-----')\n",
        "print('')\n",
        "print('Anti-israel comments:')\n",
        "print(np.array(results['sentences'])[positive_mask])\n",
        "print('-----')\n"
      ]
    },
    {
      "cell_type": "markdown",
      "metadata": {
        "id": "xkA2iO9IOd35"
      },
      "source": [
        "# neutralnews"
      ]
    },
    {
      "cell_type": "code",
      "execution_count": 13,
      "metadata": {
        "colab": {
          "base_uri": "https://localhost:8080/"
        },
        "id": "FWU_0UkbO5T8",
        "outputId": "014f9741-eee3-427a-ede9-c10bd2b9760d"
      },
      "outputs": [
        {
          "name": "stdout",
          "output_type": "stream",
          "text": [
            "There are 89 posts about Israel.\n"
          ]
        },
        {
          "name": "stderr",
          "output_type": "stream",
          "text": [
            "Processing posts:   0%|          | 0/89 [00:00<?, ?it/s]Truncation was not explicitly activated but `max_length` is provided a specific value, please use `truncation=True` to explicitly truncate examples to max length. Defaulting to 'longest_first' truncation strategy. If you encode pairs of sequences (GLUE-style) with the tokenizer you can select this strategy more precisely by providing a specific strategy to `truncation`.\n",
            "/usr/local/lib/python3.10/dist-packages/transformers/tokenization_utils_base.py:2614: FutureWarning: The `pad_to_max_length` argument is deprecated and will be removed in a future version, use `padding=True` or `padding='longest'` to pad to the longest sequence in the batch, or use `padding='max_length'` to pad to a max length. In this case, you can give a specific length with `max_length` (e.g. `max_length=45`) or leave max_length to None to pad to the maximal input size of the model (e.g. 512 for Bert).\n",
            "  warnings.warn(\n",
            "Processing posts: 100%|██████████| 89/89 [00:58<00:00,  1.53it/s]"
          ]
        },
        {
          "name": "stdout",
          "output_type": "stream",
          "text": [
            "\n",
            "Num of Results:\n",
            "\tsentences: 185\n",
            "\tcomments_ids: 185\n",
            "\ttitle_id: 185\n",
            "\tinputs: 185\n",
            "\tscores: 185\n",
            "\tprediction: 185\n"
          ]
        },
        {
          "name": "stderr",
          "output_type": "stream",
          "text": [
            "\n"
          ]
        }
      ],
      "source": [
        "config = {\n",
        "    'limit':1000,\n",
        "    'subreddit_name':'neutralnews',\n",
        "    'relevant_terms':{'israel', 'hamas', 'palestine', 'gaza', 'west bank'},\n",
        "    'posts_type':'new',\n",
        "\n",
        "}\n",
        "\n",
        "ant = AntiIsraelAPI(reddit_credentials,model_information,config)\n",
        "results = ant.detect(**config)\n",
        "\n",
        "print('\\nNum of Results:')\n",
        "for k in results.keys():\n",
        "  print(f'\\t{k}: {len(results[k])}')\n"
      ]
    },
    {
      "cell_type": "code",
      "execution_count": 14,
      "metadata": {
        "colab": {
          "base_uri": "https://localhost:8080/",
          "height": 452
        },
        "id": "U2XOESelIJvC",
        "outputId": "a275edce-6e6e-4f1a-8698-befe1260566d"
      },
      "outputs": [
        {
          "data": {
            "image/png": "[encoded data removed]",
            "text/plain": [
              "<Figure size 640x480 with 1 Axes>"
            ]
          },
          "metadata": {},
          "output_type": "display_data"
        }
      ],
      "source": [
        "positive_preds = np.array(results['scores'])[:,1]\n",
        "\n",
        "sns.histplot(positive_preds, bins = 100)\n",
        "plt.title('NeutralNews Scores Distribution')\n",
        "plt.show()\n"
      ]
    },
    {
      "cell_type": "code",
      "execution_count": 15,
      "metadata": {
        "colab": {
          "base_uri": "https://localhost:8080/"
        },
        "id": "D6-0uDFRIJvD",
        "outputId": "3c859a93-f405-4ca8-b576-91c14c95abfb"
      },
      "outputs": [
        {
          "name": "stdout",
          "output_type": "stream",
          "text": [
            "Anti Israeli Comments: 2\n",
            "-----\n",
            "\n",
            "Anti-israel comments:\n",
            "['The US tells Israel any ground campaign in southern Gaza must limit further civilian displacement ; \"Significant further displacement\" couldn\\'t be a more toothless, non-binding phrase. And the U.S. tells Israel that it \"must\" do this....or else what?'\n",
            " 'Opinion: I’m an expert in urban warfare. Israel is upholding the laws of war | CNN ; I like that he wants to compare what is happening to the war crimes he himself committed as a U.S soldier in Iraq. \"If we did it is not a war crime\", is the ultimate American argument lol.']\n",
            "-----\n"
          ]
        }
      ],
      "source": [
        "# Present comments\n",
        "threshold = 0.93\n",
        "positive_mask = positive_preds>threshold\n",
        "print(f'Anti Israeli Comments: {sum(positive_mask)}')\n",
        "\n",
        "indices = np.random.randint(0,sum(positive_mask),5)\n",
        "\n",
        "print('-----')\n",
        "print('')\n",
        "print('Anti-israel comments:')\n",
        "print(np.array(results['sentences'])[positive_mask])\n",
        "print('-----')\n"
      ]
    },
    {
      "cell_type": "code",
      "execution_count": null,
      "metadata": {
        "id": "__UeRgZvKjgC"
      },
      "outputs": [],
      "source": []
    }
  ],
  "metadata": {
    "accelerator": "GPU",
    "colab": {
      "gpuType": "T4",
      "provenance": [],
      "toc_visible": true
    },
    "kernelspec": {
      "display_name": "Python 3",
      "name": "python3"
    },
    "language_info": {
      "name": "python"
    }
  },
  "nbformat": 4,
  "nbformat_minor": 0
}
