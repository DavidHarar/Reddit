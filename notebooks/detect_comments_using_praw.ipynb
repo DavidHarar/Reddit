{
  "cells": [
    {
      "cell_type": "markdown",
      "metadata": {
        "id": "jXt1JkE0RO9I"
      },
      "source": [
        "# Setup"
      ]
    },
    {
      "cell_type": "code",
      "execution_count": 1,
      "metadata": {
        "colab": {
          "base_uri": "https://localhost:8080/"
        },
        "id": "X2mlYChIyjpL",
        "outputId": "faf25860-1d6a-4c40-f760-7e5cc97decf8"
      },
      "outputs": [
        {
          "name": "stdout",
          "output_type": "stream",
          "text": [
            "Collecting praw\n",
            "  Downloading praw-7.7.1-py3-none-any.whl (191 kB)\n",
            "\u001b[2K     \u001b[90m━━━━━━━━━━━━━━━━━━━━━━━━━━━━━━━━━━━━━━━━\u001b[0m \u001b[32m191.0/191.0 kB\u001b[0m \u001b[31m3.2 MB/s\u001b[0m eta \u001b[36m0:00:00\u001b[0m\n",
            "\u001b[?25hCollecting prawcore<3,>=2.1 (from praw)\n",
            "  Downloading prawcore-2.4.0-py3-none-any.whl (17 kB)\n",
            "Collecting update-checker>=0.18 (from praw)\n",
            "  Downloading update_checker-0.18.0-py3-none-any.whl (7.0 kB)\n",
            "Requirement already satisfied: websocket-client>=0.54.0 in /usr/local/lib/python3.10/dist-packages (from praw) (1.6.4)\n",
            "Requirement already satisfied: requests<3.0,>=2.6.0 in /usr/local/lib/python3.10/dist-packages (from prawcore<3,>=2.1->praw) (2.31.0)\n",
            "Requirement already satisfied: charset-normalizer<4,>=2 in /usr/local/lib/python3.10/dist-packages (from requests<3.0,>=2.6.0->prawcore<3,>=2.1->praw) (3.3.2)\n",
            "Requirement already satisfied: idna<4,>=2.5 in /usr/local/lib/python3.10/dist-packages (from requests<3.0,>=2.6.0->prawcore<3,>=2.1->praw) (3.4)\n",
            "Requirement already satisfied: urllib3<3,>=1.21.1 in /usr/local/lib/python3.10/dist-packages (from requests<3.0,>=2.6.0->prawcore<3,>=2.1->praw) (2.0.7)\n",
            "Requirement already satisfied: certifi>=2017.4.17 in /usr/local/lib/python3.10/dist-packages (from requests<3.0,>=2.6.0->prawcore<3,>=2.1->praw) (2023.7.22)\n",
            "Installing collected packages: update-checker, prawcore, praw\n",
            "Successfully installed praw-7.7.1 prawcore-2.4.0 update-checker-0.18.0\n"
          ]
        }
      ],
      "source": [
        "!pip install praw"
      ]
    },
    {
      "cell_type": "code",
      "execution_count": 2,
      "metadata": {
        "id": "lJKP15ZQIbQS"
      },
      "outputs": [],
      "source": [
        "reddit_credentials = {\n",
        "    'client_id': 'your client_id',\n",
        "    'client_secret': 'your client_secret',\n",
        "    'password': 'your password',\n",
        "    'username': 'your username',\n",
        "    'user_agent': 'your user_agent'\n",
        "}\n",
        "\n",
        "model_information = {\n",
        "    'tokenizer':\"./models/roberta_augmentation_label_spreading_after_pretraining_241123_tokenizer\",\n",
        "    'model':\"./models/roberta_augmentation_label_spreading_after_pretraining_241123_model.pt\",\n",
        "    'threshold':0.8\n",
        "}"
      ]
    },
    {
      "cell_type": "code",
      "execution_count": 3,
      "metadata": {
        "colab": {
          "base_uri": "https://localhost:8080/"
        },
        "id": "1KCaKESpRjRq",
        "outputId": "d9ee1110-c7f2-476e-b9a5-b2f052213ce5"
      },
      "outputs": [
        {
          "name": "stdout",
          "output_type": "stream",
          "text": [
            "Mounted at /content/drive\n"
          ]
        }
      ],
      "source": [
        "# imports\n",
        "import numpy as np\n",
        "import os\n",
        "import sys\n",
        "from transformers import RobertaTokenizer, RobertaForSequenceClassification\n",
        "import re\n",
        "import praw\n",
        "import torch\n",
        "from torch.utils.data import TensorDataset, DataLoader\n",
        "from tqdm import tqdm\n",
        "\n",
        "import seaborn as sns\n",
        "import matplotlib.pyplot as plt\n",
        "\n",
        "root = 'your root/Reddit/'\n",
        "\n",
        "os.chdir(root)\n",
        "sys.path.append(root)\n"
      ]
    },
    {
      "cell_type": "markdown",
      "metadata": {
        "id": "-qdnvVFCEZ3o"
      },
      "source": [
        "# utils"
      ]
    },
    {
      "cell_type": "code",
      "execution_count": 4,
      "metadata": {
        "id": "GRutxldbzwf9"
      },
      "outputs": [],
      "source": [
        "from typing import List\n",
        "\n",
        "class AntiIsraelAPI():\n",
        "  def __init__(self, reddit_credentials, model_information, config):\n",
        "    # Init a Reddit session\n",
        "    self.reddit = praw.Reddit(**reddit_credentials, check_for_async=False)\n",
        "    self.device = torch.device('cuda') if torch.cuda.is_available() else torch.device('cpu')\n",
        "\n",
        "    # Load model\n",
        "    self.tokenizer = RobertaTokenizer.from_pretrained(model_information['tokenizer'])\n",
        "    self.model = RobertaForSequenceClassification.from_pretrained(\n",
        "        model_information['model'],\n",
        "        num_labels = 2,\n",
        "        output_attentions = False,\n",
        "        output_hidden_states = False\n",
        "        ).to(self.device)\n",
        "    self.model_information = model_information\n",
        "    self.config = config\n",
        "\n",
        "  def detect(self, subreddit_name, limit, relevant_terms, posts_type):\n",
        "    \"\"\"\n",
        "    run the entire process\n",
        "    \"\"\"\n",
        "    # create an empty dictionary to store results\n",
        "    results = {\n",
        "        'sentences':[],\n",
        "        'comments_ids':[],\n",
        "        'title_id':[],\n",
        "        'inputs':[],\n",
        "        'scores':[],\n",
        "        'prediction':[]\n",
        "        }\n",
        "\n",
        "    # get related posts\n",
        "    posts = self._subreddit_get_posts(subreddit_name, limit, relevant_terms, posts_type)\n",
        "    print(f'There are {len(posts)} posts about Israel.')\n",
        "\n",
        "    # process posts\n",
        "    for post in tqdm(posts, desc='Processing posts'):\n",
        "      try:\n",
        "        post_dataloader, comments_and_sentences = self._process_post(post, subreddit_name)\n",
        "        prediction_results = self.predict(post_dataloader)\n",
        "        post_results = {**comments_and_sentences,**prediction_results}\n",
        "\n",
        "        # update results\n",
        "        for k in results.keys():\n",
        "          # print(f'{k}, {len(post_results[k])}, {type(post_results[k])}')\n",
        "          results[k]+=post_results[k]\n",
        "      except:\n",
        "        continue\n",
        "\n",
        "    return results\n",
        "\n",
        "\n",
        "  def _subreddit_get_posts(self, subreddit_name, limit, relevant_terms, posts_type)->List:\n",
        "    subreddit = self.reddit.subreddit(subreddit_name)\n",
        "    if posts_type == 'new':\n",
        "      posts = subreddit.new(limit=limit)\n",
        "    if posts_type == 'hot':\n",
        "      posts = subreddit.hot(limit=limit)\n",
        "\n",
        "    # filter out irrelevant posts\n",
        "    relevant_posts = []\n",
        "    for post in posts:\n",
        "      terms_included = 0\n",
        "      title = str.lower(post.title).replace(f'/r/{subreddit_name} ','')\n",
        "      for term in relevant_terms:\n",
        "        if term in title and terms_included == 0:\n",
        "          relevant_posts.append(post)\n",
        "          terms_included+=1\n",
        "        else:\n",
        "          continue\n",
        "\n",
        "    return relevant_posts\n",
        "\n",
        "  def _process_post(self, post, subreddit_name)->DataLoader:\n",
        "    # extract content from post\n",
        "    post_and_comments = AntiIsraelAPI._post_get_comments_and_ids(post)\n",
        "\n",
        "    # get title and comments\n",
        "    post_title  = post_and_comments['title_text'][0].replace(f'/r/{subreddit_name} ','')\n",
        "    post_id  = post_and_comments['title_id'][0]\n",
        "    comments    = post_and_comments['comments_text']\n",
        "    comments_ids= post_and_comments['comments_id']\n",
        "\n",
        "    # duplicate `post_id`\n",
        "    post_id = [post_id]*len(comments_ids)\n",
        "\n",
        "    # process (clean comments and join titles and comments)\n",
        "    comments = [AntiIsraelAPI.remove_hyperlinks(x) for x in comments]\n",
        "    comments = [AntiIsraelAPI.trimmer(x) for x in comments]\n",
        "    sentences = np.array([f'{post_title} ; {comment}' for comment in comments])\n",
        "\n",
        "    # store sentences and comments IDs\n",
        "    sentences_and_comments_ids = {'sentences':sentences.tolist(),'comments_ids':comments_ids, 'title_id':post_id}\n",
        "\n",
        "    # Tokenize all of the sentences and map the tokens to thier word IDs.\n",
        "    input_ids = []\n",
        "    attention_masks = []\n",
        "\n",
        "    # For every sentence...\n",
        "    for sent in sentences:\n",
        "        encoded_dict = self.tokenizer.encode_plus(\n",
        "                            sent,                           # Sentence to encode.\n",
        "                            add_special_tokens = True,      # Add '[CLS]' and '[SEP]'\n",
        "                            max_length = 512,               # Pad & truncate all sentences.\n",
        "                            pad_to_max_length = True,\n",
        "                            return_attention_mask = True,   # Construct attn. masks.\n",
        "                            return_tensors = 'pt',          # Return pytorch tensors.\n",
        "                      )\n",
        "\n",
        "        # Add the encoded sentence to the list.\n",
        "        input_ids.append(encoded_dict['input_ids'])\n",
        "\n",
        "        # And its attention mask (simply differentiates padding from non-padding).\n",
        "        attention_masks.append(encoded_dict['attention_mask'])\n",
        "\n",
        "    # Convert the lists into tensors and then to torch dataset.\n",
        "    input_ids = torch.cat(input_ids, dim=0)\n",
        "    attention_masks = torch.cat(attention_masks, dim=0)\n",
        "    dataset = TensorDataset(input_ids, attention_masks)\n",
        "\n",
        "    # Create a dataloader\n",
        "    dataloader = DataLoader(\n",
        "        dataset,\n",
        "        batch_size = 32\n",
        "        )\n",
        "\n",
        "    return dataloader, sentences_and_comments_ids\n",
        "\n",
        "  def predict(self, dataloader):\n",
        "\n",
        "    results = {\n",
        "        'inputs':[],\n",
        "        'scores':[]\n",
        "        }\n",
        "\n",
        "    for batch in dataloader:\n",
        "      b_input_ids = batch[0].to(self.device)\n",
        "      b_input_mask = batch[1].to(self.device)\n",
        "\n",
        "      with torch.no_grad():\n",
        "        scores = self.model(\n",
        "            b_input_ids,\n",
        "            token_type_ids=None,\n",
        "            attention_mask=b_input_mask)\n",
        "\n",
        "        logits = scores.logits\n",
        "        probs = torch.softmax(logits, dim=1).detach().cpu().numpy().tolist()\n",
        "\n",
        "\n",
        "        results['inputs'] += b_input_ids.tolist()\n",
        "        results['scores'] += probs\n",
        "\n",
        "    results['prediction'] = np.where(np.array(results['scores'])>self.model_information['threshold'],1,0).tolist()\n",
        "\n",
        "    return results\n",
        "\n",
        "\n",
        "  @staticmethod\n",
        "  def _post_get_comments_and_ids(post)->dict:\n",
        "    \"\"\"\n",
        "    Extract content from a Reddit submission.\n",
        "\n",
        "    inputs:\n",
        "    post: Reddit Submission(id='182j32m')\n",
        "\n",
        "    output:\n",
        "    - dictionary with post ID, post title, comments ID and comments texts.\n",
        "\n",
        "    Example:\n",
        "    _post_get_comments_and_ids(post)\n",
        "\n",
        "    \"\"\"\n",
        "    results = {\n",
        "        'title_text':[],\n",
        "        'title_id':[],\n",
        "        'comments_text':[],\n",
        "        'comments_id':[]\n",
        "        }\n",
        "\n",
        "    results['title_text'].append(post.title)\n",
        "    results['title_id'].append(post.id)\n",
        "\n",
        "    comments = [x for x in post.comments]\n",
        "    results['comments_text'] = [comments[j].body for j in range(len(comments)-1)]\n",
        "    results['comments_id'] = [comments[j].id for j in range(len(comments)-1)]\n",
        "\n",
        "    return results\n",
        "\n",
        "  @staticmethod\n",
        "  def remove_hyperlinks(text):\n",
        "    \"\"\"Removes hyperlinks from text.\n",
        "\n",
        "    Args:\n",
        "      text: A string containing the text with hyperlinks.\n",
        "\n",
        "    Returns:\n",
        "      A string containing the text without hyperlinks.\n",
        "    \"\"\"\n",
        "    # replace http to https\n",
        "    text = text.replace('http://', 'https://')\n",
        "\n",
        "    # Remove embedded hyperlinks.\n",
        "    text = re.sub(r'\\[(.*?)\\]\\(https:\\/\\/.*?\\)', r'\\1', text)\n",
        "\n",
        "    # Remove pasted hyperlinks.\n",
        "    text = re.sub(r'https?://\\S+', '', text)\n",
        "\n",
        "    return text\n",
        "\n",
        "  @staticmethod\n",
        "  def count_hyperlinks(text):\n",
        "    \"\"\"Counts the number of hyperlinks in text.\n",
        "\n",
        "    Args:\n",
        "      text: A string containing the text with hyperlinks.\n",
        "\n",
        "    Returns:\n",
        "      An integer representing the number of hyperlinks in the text.\n",
        "    \"\"\"\n",
        "    # replace http to https\n",
        "    text = text.replace('http://', 'https://')\n",
        "\n",
        "    # Count embedded hyperlinks.\n",
        "    hyperlinks = re.findall(r'https:\\/\\/.*?', text)\n",
        "\n",
        "    # Return the total number of hyperlinks.\n",
        "    return len(hyperlinks)\n",
        "\n",
        "  @staticmethod\n",
        "  def trimmer(text):\n",
        "    \"\"\"Removes extra characters in a row from text.\n",
        "    \"\"\"\n",
        "    # remove trailing spaces\n",
        "    lines = text.splitlines()\n",
        "\n",
        "    # Remove trailing spaces from each line.\n",
        "    clean_lines = [line.rstrip() for line in lines]\n",
        "\n",
        "    # Join the lines back into a string.\n",
        "    text = \"\\n\".join(clean_lines)\n",
        "\n",
        "    # Remove newlines in a row that have only one character in them.\n",
        "    text = re.sub(r'\\n\\s*\\n+', '\\n\\n', text)\n",
        "\n",
        "    # Remove extra spaces in a row.\n",
        "    text = re.sub(r'\\s+', ' ', text)\n",
        "\n",
        "    # Remove multiple blank lines.\n",
        "    text = re.sub(r'\\n\\s*\\n+', '\\n\\n', text)\n",
        "\n",
        "    # Remove unnecessary whitespace.\n",
        "    text = re.sub(r'\\s+', ' ', text)\n",
        "\n",
        "    # Remove extra dashes in a row.\n",
        "    text = re.sub(r'--+', '--', text)\n",
        "\n",
        "    # remove more than one \\n in a row\n",
        "    text = re.sub(r'\\n+', '\\n', text)\n",
        "\n",
        "    # Compile the patterns into a regular expression.\n",
        "    substrings = ['- ', '* ', ' -', ' *']\n",
        "    for substring in substrings:\n",
        "      text = text.replace(substring, '')\n",
        "\n",
        "    return text\n"
      ]
    },
    {
      "cell_type": "markdown",
      "metadata": {
        "id": "HWLuDM5UEYZw"
      },
      "source": [
        "# WorldNews"
      ]
    },
    {
      "cell_type": "code",
      "execution_count": 5,
      "metadata": {
        "colab": {
          "base_uri": "https://localhost:8080/"
        },
        "id": "UG4DPb_GWZ9X",
        "outputId": "46f9f5f0-59e0-4940-aef0-4d716d55aecf"
      },
      "outputs": [
        {
          "name": "stdout",
          "output_type": "stream",
          "text": [
            "There are 72 posts about Israel.\n"
          ]
        },
        {
          "name": "stderr",
          "output_type": "stream",
          "text": [
            "Processing posts:   4%|▍         | 3/72 [00:00<00:14,  4.60it/s]Truncation was not explicitly activated but `max_length` is provided a specific value, please use `truncation=True` to explicitly truncate examples to max length. Defaulting to 'longest_first' truncation strategy. If you encode pairs of sequences (GLUE-style) with the tokenizer you can select this strategy more precisely by providing a specific strategy to `truncation`.\n",
            "/usr/local/lib/python3.10/dist-packages/transformers/tokenization_utils_base.py:2614: FutureWarning: The `pad_to_max_length` argument is deprecated and will be removed in a future version, use `padding=True` or `padding='longest'` to pad to the longest sequence in the batch, or use `padding='max_length'` to pad to a max length. In this case, you can give a specific length with `max_length` (e.g. `max_length=45`) or leave max_length to None to pad to the maximal input size of the model (e.g. 512 for Bert).\n",
            "  warnings.warn(\n",
            "Processing posts:   6%|▌         | 4/72 [00:05<02:19,  2.05s/it]/usr/local/lib/python3.10/dist-packages/transformers/tokenization_utils_base.py:2614: FutureWarning: The `pad_to_max_length` argument is deprecated and will be removed in a future version, use `padding=True` or `padding='longest'` to pad to the longest sequence in the batch, or use `padding='max_length'` to pad to a max length. In this case, you can give a specific length with `max_length` (e.g. `max_length=45`) or leave max_length to None to pad to the maximal input size of the model (e.g. 512 for Bert).\n",
            "  warnings.warn(\n",
            "Processing posts: 100%|██████████| 72/72 [01:49<00:00,  1.52s/it]"
          ]
        },
        {
          "name": "stdout",
          "output_type": "stream",
          "text": [
            "\n",
            "Num of Results:\n",
            "\tsentences: 1378\n",
            "\tcomments_ids: 1378\n",
            "\ttitle_id: 1378\n",
            "\tinputs: 1378\n",
            "\tscores: 1378\n",
            "\tprediction: 1378\n"
          ]
        },
        {
          "name": "stderr",
          "output_type": "stream",
          "text": [
            "\n"
          ]
        }
      ],
      "source": [
        "config = {\n",
        "    'limit':1000,\n",
        "    'subreddit_name':'WorldNews',\n",
        "    'relevant_terms':{'israel', 'hammas', 'palestine'},\n",
        "    'posts_type':'new',\n",
        "\n",
        "}\n",
        "\n",
        "ant = AntiIsraelAPI(reddit_credentials,model_information,config)\n",
        "results = ant.detect(**config)\n",
        "\n",
        "print('\\nNum of Results:')\n",
        "for k in results.keys():\n",
        "  print(f'\\t{k}: {len(results[k])}')\n"
      ]
    },
    {
      "cell_type": "code",
      "execution_count": 6,
      "metadata": {
        "colab": {
          "base_uri": "https://localhost:8080/",
          "height": 452
        },
        "id": "DXtL3eMGFIuI",
        "outputId": "429098b7-6753-4ba2-edd8-22b65b6e56f9"
      },
      "outputs": [
        {
          "data": {
            "image/png": "[encoded data removed]",
            "text/plain": [
              "<Figure size 640x480 with 1 Axes>"
            ]
          },
          "metadata": {},
          "output_type": "display_data"
        }
      ],
      "source": [
        "positive_preds = np.array(results['scores'])[:,1]\n",
        "\n",
        "sns.histplot(positive_preds, bins = 100)\n",
        "plt.title('WorldNews Scores Distribution')\n",
        "plt.show()\n"
      ]
    },
    {
      "cell_type": "code",
      "execution_count": 7,
      "metadata": {
        "colab": {
          "base_uri": "https://localhost:8080/"
        },
        "id": "kH9D_TO8kU_A",
        "outputId": "6b735e9b-1b63-4c0e-9401-774b08023cfe"
      },
      "outputs": [
        {
          "name": "stdout",
          "output_type": "stream",
          "text": [
            "Anti Israeli Comments: 69\n",
            "-----\n",
            "\n",
            "Anti-israel comments:\n",
            "['Israel-Hamas war: UK sending one of its most lethal warships to Gulf to deter Iran-backed groups | UK News ; Better send it to down russian invaders.'\n",
            " 'Arab Israeli prisoners oppose release under hostage deal, prefer to go to trial ; “Obliiiige him.”'\n",
            " '‘No way’ Israel will agree to end war against Hamas, says Netanyahu ; Give them hell!'\n",
            " '‘No way’ Israel will agree to end war against Hamas, says Netanyahu ; No one believes their crap anymore. Just this echo chamber'\n",
            " '‘No way’ Israel will agree to end war against Hamas, says Netanyahu ; Netanyahu needs to be prosecutes. Shame on him'\n",
            " \"‘No way’ Israel will agree to end war against Hamas, says Netanyahu ; Israel are worse then Russia. Screw these guys. It's sad that media sees them as the good guys\"\n",
            " 'Released Thai hostage says Israelis held with him were beaten with electric cables ; Beating civilian hostages with power cables is legitimate resistance. /s /far too many fucktards'\n",
            " 'Released Thai hostage says Israelis held with him were beaten with electric cables ; Classical anticolonial hostage torture... /s'\n",
            " 'Released Thai hostage says Israelis held with him were beaten with electric cables ; Obviously this is not true, Thai are part of the Western colonialism and Zionism! Liars!'\n",
            " 'Released Thai hostage says Israelis held with him were beaten with electric cables ; Palestinians need to be de-Nazified and before that can happen they have to surrender unconditionally. This war is over when they give up and not before.'\n",
            " 'Released Thai hostage says Israelis held with him were beaten with electric cables ; Not only tortured with electric cables, but also raped and butchered the Kidnapped Jews'\n",
            " \"Released Thai hostage says Israelis held with him were beaten with electric cables ; No no you don't understand they are beating Jews because they want to annex Israel and genocide the Jews so it's totally justified\"\n",
            " 'Four Palestinians, including two children, killed by Israeli forces in West Bank ; Anti israeli user confirmed.'\n",
            " 'Israeli forces kill at least 8 Palestinians in surging West Bank violence, health officials say ; The IDF is a pro a killing civilians. They got plenty of practice capping kids knees a couple years ago'\n",
            " 'Hamas armed wing says youngest hostage, relatives killed in previous Israeli air strike ; More psychological warfare from Hamas, fucking scum.'\n",
            " 'Released Palestinian terrorist refuses to leave Israeli jail ; Getting some, they will torture me to death if I go back a collaborator vibes.'\n",
            " 'Released Palestinian terrorist refuses to leave Israeli jail ; He was probably threatened to stay. “When you leave, if I see you again, I’ll shoot you like a dog in the street. Just like your friend today.”'\n",
            " 'Saudi Arabia has intercepted Houthi missiles aimed at Israel, Der Spiegel reports ; Seriously it’s time to bomb these guys. Enough is enough.'\n",
            " 'Israeli intelligence leak details extent of warnings over Hamas attack | The Guardian ; Bibi is about to go Bye-bye'\n",
            " 'Erdogan tells UN chief Israel must be tried in international courts for Gaza crimes ; I don’t think fighting the Jewish State in a court of law is gonna go the way this guy thinks it will.'\n",
            " \"Erdogan tells UN chief Israel must be tried in international courts for Gaza crimes ; Yeah... Israel should stand trial for what it is doing in Gaza, No question about it. I don't care what they believe they are entitled to*they are NOT allowed to kill and displace 2million + people from their homes and likely cause Many thousands of peoples death in doing so In excess of them BOMBING their god damn houses, hospitals and businesses.**\"\n",
            " 'Israeli troops in northern Gaza targeted with bombs, in apparent breach of truce ; What a shock! Baby mutilators aren’t honest!!'\n",
            " \"Israeli troops in northern Gaza targeted with bombs, in apparent breach of truce ; Yeah, I seriously doubt a group of terrorists is going to honour any agreement they make. They're going to use it as an opportunity to... continue being terrorists.\"\n",
            " \"Israeli troops in northern Gaza targeted with bombs, in apparent breach of truce ; The terrorists aren't honouring a cease fire, and aren't returning families? The terrorists are liars and doing terrorist shit? No fucking way.\"\n",
            " 'Israeli troops in northern Gaza targeted with bombs, in apparent breach of truce ; Maybe in the 27th time Israel will learn to not negotiate with terrorists Feels like they never learn'\n",
            " \"Israel's finance minister defends settlement funds in budget row ; These POS people need to be jailed.. we need to fight this cancer. So much damage is being done for years it's horrible...\"\n",
            " \"Israel's finance minister defends settlement funds in budget row ; Israeli policy towards settlers couldn’t be more inflammatory, antagonistic, and radicalizing for Palestinians who have to suffer them.\"\n",
            " 'Freed Israeli hostage describes deteriorating conditions while being held by Hamas ; My condition deteriorated as the IDF treated me like a one of nearly 6 million Palestinian hostages in occupied Bantustans, can you imagine?'\n",
            " 'Freed Israeli hostage describes deteriorating conditions while being held by Hamas ; Oh she was starving? It is almost like there Israel cut off the food and water in Gaza 🤯🤯'\n",
            " \"Palestinian Authority minister: Hamas's October 7 massacre of Israelis 'heroic' ; That’s the entire story right there. The “moderates” are very much not moderate. The harsh truth is Israel got no partner for peace and will probably never have.\"\n",
            " \"Palestinian Authority minister: Hamas's October 7 massacre of Israelis 'heroic' ; Absolute cockroaches\"\n",
            " \"Palestinian Authority minister: Hamas's October 7 massacre of Israelis 'heroic' ; Cowards Killing defenseless people in their sleep. very heroic you cockroaches\"\n",
            " \"Palestinian Authority minister: Hamas's October 7 massacre of Israelis 'heroic' ; Mmmmmmhmmm love all the foreign aid.... we should be sending ultimatums not money to these monstrous regimes.\"\n",
            " \"Palestinian Authority minister: Hamas's October 7 massacre of Israelis 'heroic' ; Well, he won't be a minister for long at this rate. Shame on Europe for keeping sending money for terrorists.\"\n",
            " \"Palestinian Authority minister: Hamas's October 7 massacre of Israelis 'heroic' ; Putrid scum bags\"\n",
            " \"Palestinian Authority minister: Hamas's October 7 massacre of Israelis 'heroic' ; I’m going to say this comment might not help persuade the Israelis to stop flattening Gaza….\"\n",
            " \"Palestinian Authority minister: Hamas's October 7 massacre of Israelis 'heroic' ; Disgusting\"\n",
            " 'Palestinian Authority minister: Hamas\\'s October 7 massacre of Israelis \\'heroic\\' ; \"Partners in peace\" my ass. This is why overbearing Israeli security and the occupation of the west bank exist folks.'\n",
            " \"Palestinian Authority minister: Hamas's October 7 massacre of Israelis 'heroic' ; Genocidal dreamers\"\n",
            " \"Palestinian Authority minister: Hamas's October 7 massacre of Israelis 'heroic' ; Heroic how? The only thing Hamas achieved is giving Israel more excuses to take away Palestinians' rights.\"\n",
            " \"Israel allegedly strikes Syria's Damascus International Airport ; Defund israel\"\n",
            " \"Israel allegedly strikes Syria's Damascus International Airport ; so when are people are going call israel the terrorists? only brown countries right?\"\n",
            " 'Countries need to join hands globally against terrorism, says Israel envoy ; Yea start with your own “settlers” pal'\n",
            " 'Countries need to join hands globally against terrorism, says Israel envoy ; Can we also join hands globally against Apartheid?'\n",
            " 'Countries need to join hands globally against terrorism, says Israel envoy ; 1200 died from terrorists? How many thousands of kids died from stray bombs? We’re not stupid and not buying it anymore.'\n",
            " 'Countries need to join hands globally against terrorism, says Israel envoy ; Countries need to join hands globally against the crimes committed by Israel.'\n",
            " 'Countries need to join hands globally against terrorism, says Israel envoy ; Envoy of a terrorist state, long in conflict with international law. Rich'\n",
            " 'Countries need to join hands globally against terrorism, says Israel envoy ; We tried sanctioning Russia, but it has yet to yield any tangible benefit.'\n",
            " 'Countries need to join hands globally against terrorism, says Israel envoy ; A lot already are… GWOT has not yet ended'\n",
            " 'Israeli-linked oil tanker seized off the coast of Aden, Yemen, private intelligence firm says ; Oh. Shit. They should ask Saddam Hussein why it’s stupid to mess with the oil. Oh wait…'\n",
            " 'Israeli-linked oil tanker seized off the coast of Aden, Yemen, private intelligence firm says ; Oh, i am sure that the Israeli oil tankers have been oppressing Palestinian oil tankers for years. Free the Palestinian oil tankers! There is oil on your hands Jews, i mean Israelis. Please dont hurt me jihadis, I hate Jews too.'\n",
            " 'Israeli-linked oil tanker seized off the coast of Aden, Yemen, private intelligence firm says ; It’s like these people want some freedom or something Edit: hey fuckers by freedom I mean the kind f16’s and b-52s deliver'\n",
            " 'Live Thread for 2023 Israel-Hamas Crisis (Thread 42) ; \"The pro-Hamas mob smashed the window of a New York kosher restaurant. Because, you know, terrorizing Jews in America will #FreePalestine.\" '\n",
            " \"Irish ambassador to Israel summoned for 'reprimand' ; Christ the Israeli govt is absolutely fucking shameless.\"\n",
            " \"Irish ambassador to Israel summoned for 'reprimand' ; That sub is so cancerous.\"\n",
            " \"Irish ambassador to Israel summoned for 'reprimand' ; The Irish need to get off their high horse Diplomacy calls for it now\"\n",
            " 'Fatah official: Oct. 7 is part of our \\'defensive war\\' against Israel, Hamas is ‘part of our political and social fabric’ ; \" we like the terrorists.\" Palestine probably'\n",
            " 'Netanyahu to Qatar: Israel will not assassinate Hamas leaders in country ; Suddenly muh oil is more important than revenge. What a surprise. Lets not insult the country that still has slavery and harbors the very people who are behind the Oktober 7 attack.'\n",
            " 'Netanyahu to Qatar: Israel will not assassinate Hamas leaders in country ; Israel clearly does not want to destroy Hamas, but they alsohaveto do something about Oct 7. So Netanyahu is trying to kill as many Palestinians as he can so that he can sell the war as a victory to Israelis.'\n",
            " \"Hamas frees second group of Israeli, Thai hostages in truce ; Truce feels like the wrong word for it. It's more like terroristic extortion\"\n",
            " 'Irish troops unharmed as Unifil patrol hit by Israeli gunfire in southern Lebanon ; Israelis in this comment section justifying this lmao Get fucked.'\n",
            " 'Hamas is set to release 14 Israeli hostages for 42 Israel-held Palestinians in a second truce swap ; And israelis are bad because they value life of israelis 3x more than life of palestines, right?'\n",
            " 'Hamas is set to release 14 Israeli hostages for 42 Israel-held Palestinians in a second truce swap ; Why are the numbers so lopsided? Why did Israel ever let the precedent of massive prisoner swaps for hostages start? They’ve been emboldened to continue and are incentivized to take as many hostages as possible.'\n",
            " 'Israel-Hamas conflict has gone beyond war to ‘terrorism,’ Pope Francis says ; Ignorance> Adopted Bias> Hatred> Terrorism> War> Death> Hell.'\n",
            " \"Israel's Communications Minister Threatens Haaretz, Suggests Penalizing Its Gaza War Coverage ; Netanyahu's far-right coalition is by far the worst that Israelis could ever asked for... supporting settler terrorism and persecuting journalism.\"\n",
            " \"Israel's Communications Minister Threatens Haaretz, Suggests Penalizing Its Gaza War Coverage ; Well, Bibi tried to force the judiciary to do his bidding, so it's certainly no surprise that he would threaten a newspaper that doesn't tow the line of his corrupt administration.\"\n",
            " 'Hamas hands over first group of Israeli hostages to Red Cross in Gaza Strip ; This disgusting hamas filth is purposely splitting up released kidnapped families to further terrorize Jewish families in the process. Their next-level terrorism in this fake gesture of cooperation, was all planned ahead of time. More evidence of why Israel must erase hamas from the Earth.'\n",
            " 'Cuba’s President Leads Pro-Palestine March outside US Embassy in Havana ; How about this guy releases the protesters he jailed after the July 11 protests? He pretends to care about human rights in Palestine but continues to treat his own people lile shit'\n",
            " 'Gaza war to continue for at least two more months: Israel Defence Minister ; Screw all of them and their hate filled slaughter. Stop giving them the weapons to make it happen.']\n",
            "-----\n"
          ]
        }
      ],
      "source": [
        "# Present comments\n",
        "threshold = 0.96\n",
        "positive_mask = positive_preds>threshold\n",
        "print(f'Anti Israeli Comments: {sum(positive_mask)}')\n",
        "\n",
        "indices = np.random.randint(0,sum(positive_mask),5)\n",
        "\n",
        "print('-----')\n",
        "print('')\n",
        "print('Anti-israel comments:')\n",
        "print(np.array(results['sentences'])[positive_mask])\n",
        "print('-----')\n"
      ]
    },
    {
      "cell_type": "markdown",
      "metadata": {
        "id": "vN3iC_J4GnZ7"
      },
      "source": [
        "# News"
      ]
    },
    {
      "cell_type": "code",
      "execution_count": 8,
      "metadata": {
        "colab": {
          "base_uri": "https://localhost:8080/"
        },
        "id": "Tr-tGKE6GoHV",
        "outputId": "c5f379b1-8afc-4107-9a85-b7d9403106e2"
      },
      "outputs": [
        {
          "name": "stdout",
          "output_type": "stream",
          "text": [
            "There are 6 posts about Israel.\n"
          ]
        },
        {
          "name": "stderr",
          "output_type": "stream",
          "text": [
            "\rProcessing posts:   0%|          | 0/6 [00:00<?, ?it/s]Truncation was not explicitly activated but `max_length` is provided a specific value, please use `truncation=True` to explicitly truncate examples to max length. Defaulting to 'longest_first' truncation strategy. If you encode pairs of sequences (GLUE-style) with the tokenizer you can select this strategy more precisely by providing a specific strategy to `truncation`.\n",
            "/usr/local/lib/python3.10/dist-packages/transformers/tokenization_utils_base.py:2614: FutureWarning: The `pad_to_max_length` argument is deprecated and will be removed in a future version, use `padding=True` or `padding='longest'` to pad to the longest sequence in the batch, or use `padding='max_length'` to pad to a max length. In this case, you can give a specific length with `max_length` (e.g. `max_length=45`) or leave max_length to None to pad to the maximal input size of the model (e.g. 512 for Bert).\n",
            "  warnings.warn(\n",
            "Processing posts: 100%|██████████| 6/6 [00:23<00:00,  3.92s/it]"
          ]
        },
        {
          "name": "stdout",
          "output_type": "stream",
          "text": [
            "\n",
            "Num of Results:\n",
            "\tsentences: 253\n",
            "\tcomments_ids: 253\n",
            "\ttitle_id: 253\n",
            "\tinputs: 253\n",
            "\tscores: 253\n",
            "\tprediction: 253\n"
          ]
        },
        {
          "name": "stderr",
          "output_type": "stream",
          "text": [
            "\n"
          ]
        }
      ],
      "source": [
        "config = {\n",
        "    'limit':1000,\n",
        "    'subreddit_name':'News',\n",
        "    'relevant_terms':{'israel', 'hamas', 'palestine', 'gaza', 'west bank'},\n",
        "    'posts_type':'new',\n",
        "\n",
        "}\n",
        "\n",
        "ant = AntiIsraelAPI(reddit_credentials,model_information,config)\n",
        "results = ant.detect(**config)\n",
        "\n",
        "print('\\nNum of Results:')\n",
        "for k in results.keys():\n",
        "  print(f'\\t{k}: {len(results[k])}')\n"
      ]
    },
    {
      "cell_type": "code",
      "execution_count": 9,
      "metadata": {
        "colab": {
          "base_uri": "https://localhost:8080/",
          "height": 452
        },
        "id": "TMupXeLFGoHV",
        "outputId": "5b85cfd6-3704-4819-c5b3-bdb5cd33b13a"
      },
      "outputs": [
        {
          "data": {
            "image/png": "[encoded data removed]",
            "text/plain": [
              "<Figure size 640x480 with 1 Axes>"
            ]
          },
          "metadata": {},
          "output_type": "display_data"
        }
      ],
      "source": [
        "positive_preds = np.array(results['scores'])[:,1]\n",
        "\n",
        "sns.histplot(positive_preds, bins = 100)\n",
        "plt.title('News Scores Distribution')\n",
        "plt.show()\n"
      ]
    },
    {
      "cell_type": "code",
      "execution_count": 10,
      "metadata": {
        "colab": {
          "base_uri": "https://localhost:8080/"
        },
        "id": "Oehh7LJbGoHV",
        "outputId": "2ef19a93-cf61-488e-e5b3-8bca7b606d7e"
      },
      "outputs": [
        {
          "name": "stdout",
          "output_type": "stream",
          "text": [
            "Anti Israeli Comments: 22\n",
            "-----\n",
            "\n",
            "Anti-israel comments:\n",
            "[\"Israel releases 30 Palestinian prisoners on fifth day of temporary cease-fire ; How did Israel even get the prisoners... which is mostly women and children .....were they planning on keeping and torturing them if it wasn't for the exchange...\"\n",
            " \"Israel and Hamas agree to extend truce for two more days, and free more hostages and prisoners ; Thankful for that at least. we'll never shut up until it's a lasting ceasefire, an end to netanyahu's rule, and real negotiations for full enfranchisement of palestinians.\"\n",
            " \"Israel and Hamas agree to extend truce for two more days, and free more hostages and prisoners ; How did Israel even get the prisoners... which is mostly women and children .....were they planning on keeping and torturing them if it wasn't for the exchange...\"\n",
            " 'US Navy seizes attackers who held Israel-linked tanker ; Make them walk the plank'\n",
            " 'US Navy seizes attackers who held Israel-linked tanker ; I want footage of pirate bases getting MOABed dammit'\n",
            " 'US Navy seizes attackers who held Israel-linked tanker ; The Fat Electrician just did a good video about piracy and why you don’t fuck with America’s boats Did you know the US Navy was founded for the sole purpose of hunting pirates.'\n",
            " \"US Navy seizes attackers who held Israel-linked tanker ; So now the United States is fighting Israel's war?\"\n",
            " 'US Navy seizes attackers who held Israel-linked tanker ; Waste of time and resources to detain them. Treat em like pirates should be treated.'\n",
            " \"Human Rights Watch says rocket misfire likely cause of deadly Gaza hospital blast ; Didn't we know that weeks ago? I knew as soon as I realized that the rocket didn't actually hit the hospital. If Israel wanted to bomb a hospital they would have leveled the building\"\n",
            " 'Human Rights Watch says rocket misfire likely cause of deadly Gaza hospital blast ; Obligatory fuck Hamas'\n",
            " 'Human Rights Watch says rocket misfire likely cause of deadly Gaza hospital blast ; Terrorists your game is through!'\n",
            " 'Human Rights Watch says rocket misfire likely cause of deadly Gaza hospital blast ; Just like the US, the world expects Isreal to fight with two hand tied behind their backs while they praise those that would terrorize us.'\n",
            " 'Human Rights Watch says rocket misfire likely cause of deadly Gaza hospital blast ; Human Rights Watch also described the conditions imposed by Israel as “apartheid” but we won’t trouble ourselves over that'\n",
            " \"Gaza 'Most Dangerous Place in the World to be a Child' - UNICEF ; It’s so mind boggling to me to read comment after comment of people justifying Israel’s abhorrent disproportional response. It’s clear they are either zionists or don’t see Palestinians as humans deserving of basic human rights. Fucking disgusting\"\n",
            " \"Gaza 'Most Dangerous Place in the World to be a Child' - UNICEF ; Hamas is responsible for that. Gazans are responsible for that. They hate Jews more than they love their kids. Every single child from Gaza should be deported to a foster home and raised far away from that warmongering place and people.\"\n",
            " \"Gaza 'Most Dangerous Place in the World to be a Child' - UNICEF ; What are we supposed to believe, that Israel tries to avoid killing children, but is so incredibly incompetent they constantly murder them? At least the public opinion is turning. if you listen to their government or the settlers, they’re very brazen about their genocidal intent\"\n",
            " \"Gaza 'Most Dangerous Place in the World to be a Child' - UNICEF ; Israel is just murdering children at this point because their genocide has driven the average age down so much. That country is fucking evil.\"\n",
            " \"Gaza 'Most Dangerous Place in the World to be a Child' - UNICEF ; The average is 19 there. A place where children won't grow old under the oppression, killings of the state of Apartheid Israel.\"\n",
            " \"Gaza 'Most Dangerous Place in the World to be a Child' - UNICEF ; All these comments saying no shit its war, way to be dismissive. Maybe they could have picked a different method to go about it to minimise casualties to children? There is a reason this war in particular has been so deadly to children and even journalists. Because Israel simply doesn’t care. They can just claim a terrorist is there and they have carte blanche to do whatever the hell they want.\"\n",
            " \"Gaza 'Most Dangerous Place in the World to be a Child' - UNICEF ; I have seen some of the worst images in my life from this genocide. Children with their faces literally MELTED off. You cannot explain away these war crimes.\"\n",
            " \"Gaza 'Most Dangerous Place in the World to be a Child' - UNICEF ; Biden! Stop Giving Money to Netanyahu to keep bombing Gaza! WHAT. THE. ACTUAL. F*CK.\"\n",
            " \"Gaza 'Most Dangerous Place in the World to be a Child' - UNICEF ; After being bombed relentlessly by an occupying state. Shame. No respect to human life.\"]\n",
            "-----\n"
          ]
        }
      ],
      "source": [
        "# Present comments\n",
        "threshold = 0.93\n",
        "positive_mask = positive_preds>threshold\n",
        "print(f'Anti Israeli Comments: {sum(positive_mask)}')\n",
        "\n",
        "indices = np.random.randint(0,sum(positive_mask),5)\n",
        "\n",
        "print('-----')\n",
        "print('')\n",
        "print('Anti-israel comments:')\n",
        "print(np.array(results['sentences'])[positive_mask])\n",
        "print('-----')\n"
      ]
    },
    {
      "cell_type": "markdown",
      "metadata": {
        "id": "xkA2iO9IOd35"
      },
      "source": [
        "# neutralnews"
      ]
    },
    {
      "cell_type": "code",
      "execution_count": 11,
      "metadata": {
        "colab": {
          "base_uri": "https://localhost:8080/"
        },
        "id": "FWU_0UkbO5T8",
        "outputId": "61f3319f-09b5-4cc8-82c9-a9bd8d2b596b"
      },
      "outputs": [
        {
          "name": "stdout",
          "output_type": "stream",
          "text": [
            "There are 89 posts about Israel.\n"
          ]
        },
        {
          "name": "stderr",
          "output_type": "stream",
          "text": [
            "Processing posts:   0%|          | 0/89 [00:00<?, ?it/s]Truncation was not explicitly activated but `max_length` is provided a specific value, please use `truncation=True` to explicitly truncate examples to max length. Defaulting to 'longest_first' truncation strategy. If you encode pairs of sequences (GLUE-style) with the tokenizer you can select this strategy more precisely by providing a specific strategy to `truncation`.\n",
            "/usr/local/lib/python3.10/dist-packages/transformers/tokenization_utils_base.py:2614: FutureWarning: The `pad_to_max_length` argument is deprecated and will be removed in a future version, use `padding=True` or `padding='longest'` to pad to the longest sequence in the batch, or use `padding='max_length'` to pad to a max length. In this case, you can give a specific length with `max_length` (e.g. `max_length=45`) or leave max_length to None to pad to the maximal input size of the model (e.g. 512 for Bert).\n",
            "  warnings.warn(\n",
            "Processing posts: 100%|██████████| 89/89 [00:33<00:00,  2.69it/s]"
          ]
        },
        {
          "name": "stdout",
          "output_type": "stream",
          "text": [
            "\n",
            "Num of Results:\n",
            "\tsentences: 185\n",
            "\tcomments_ids: 185\n",
            "\ttitle_id: 185\n",
            "\tinputs: 185\n",
            "\tscores: 185\n",
            "\tprediction: 185\n"
          ]
        },
        {
          "name": "stderr",
          "output_type": "stream",
          "text": [
            "\n"
          ]
        }
      ],
      "source": [
        "config = {\n",
        "    'limit':1000,\n",
        "    'subreddit_name':'neutralnews',\n",
        "    'relevant_terms':{'israel', 'hamas', 'palestine', 'gaza', 'west bank'},\n",
        "    'posts_type':'new',\n",
        "\n",
        "}\n",
        "\n",
        "ant = AntiIsraelAPI(reddit_credentials,model_information,config)\n",
        "results = ant.detect(**config)\n",
        "\n",
        "print('\\nNum of Results:')\n",
        "for k in results.keys():\n",
        "  print(f'\\t{k}: {len(results[k])}')\n"
      ]
    },
    {
      "cell_type": "code",
      "execution_count": 12,
      "metadata": {
        "colab": {
          "base_uri": "https://localhost:8080/",
          "height": 452
        },
        "id": "U2XOESelIJvC",
        "outputId": "5926a2ee-61d7-4a6b-dd19-f2bfcf85f93a"
      },
      "outputs": [
        {
          "data": {
            "image/png": "[encoded data removed]",
            "text/plain": [
              "<Figure size 640x480 with 1 Axes>"
            ]
          },
          "metadata": {},
          "output_type": "display_data"
        }
      ],
      "source": [
        "positive_preds = np.array(results['scores'])[:,1]\n",
        "\n",
        "sns.histplot(positive_preds, bins = 100)\n",
        "plt.title('NeutralNews Scores Distribution')\n",
        "plt.show()\n"
      ]
    },
    {
      "cell_type": "code",
      "execution_count": 13,
      "metadata": {
        "colab": {
          "base_uri": "https://localhost:8080/"
        },
        "id": "D6-0uDFRIJvD",
        "outputId": "66487f1e-c9f3-44f6-cb5e-1ba6ffa853a3"
      },
      "outputs": [
        {
          "name": "stdout",
          "output_type": "stream",
          "text": [
            "Anti Israeli Comments: 2\n",
            "-----\n",
            "\n",
            "Anti-israel comments:\n",
            "['The US tells Israel any ground campaign in southern Gaza must limit further civilian displacement ; \"Significant further displacement\" couldn\\'t be a more toothless, non-binding phrase. And the U.S. tells Israel that it \"must\" do this....or else what?'\n",
            " 'Opinion: I’m an expert in urban warfare. Israel is upholding the laws of war | CNN ; I like that he wants to compare what is happening to the war crimes he himself committed as a U.S soldier in Iraq. \"If we did it is not a war crime\", is the ultimate American argument lol.']\n",
            "-----\n"
          ]
        }
      ],
      "source": [
        "# Present comments\n",
        "threshold = 0.93\n",
        "positive_mask = positive_preds>threshold\n",
        "print(f'Anti Israeli Comments: {sum(positive_mask)}')\n",
        "\n",
        "indices = np.random.randint(0,sum(positive_mask),5)\n",
        "\n",
        "print('-----')\n",
        "print('')\n",
        "print('Anti-israel comments:')\n",
        "print(np.array(results['sentences'])[positive_mask])\n",
        "print('-----')\n"
      ]
    },
    {
      "cell_type": "code",
      "execution_count": 13,
      "metadata": {
        "id": "__UeRgZvKjgC"
      },
      "outputs": [],
      "source": []
    }
  ],
  "metadata": {
    "accelerator": "GPU",
    "colab": {
      "gpuType": "T4",
      "provenance": []
    },
    "kernelspec": {
      "display_name": "Python 3",
      "name": "python3"
    },
    "language_info": {
      "name": "python"
    }
  },
  "nbformat": 4,
  "nbformat_minor": 0
}
